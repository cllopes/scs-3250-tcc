{
 "cells": [
  {
   "cell_type": "markdown",
   "metadata": {},
   "source": [
    "## Shared code for the Color and Legends"
   ]
  },
  {
   "cell_type": "code",
   "execution_count": 16,
   "metadata": {
    "collapsed": true
   },
   "outputs": [],
   "source": [
    "import pandas as pd\n",
    "import matplotlib.patches as mpatches"
   ]
  },
  {
   "cell_type": "code",
   "execution_count": 17,
   "metadata": {
    "collapsed": true
   },
   "outputs": [],
   "source": [
    "ttc = pd.read_csv('ttc_delays_cleaned.csv')"
   ]
  },
  {
   "cell_type": "markdown",
   "metadata": {},
   "source": [
    "### Colors"
   ]
  },
  {
   "cell_type": "code",
   "execution_count": 18,
   "metadata": {
    "collapsed": true
   },
   "outputs": [],
   "source": [
    "bloor_color = '#2b720a'\n",
    "scarborough_color = '#0a6797'\n",
    "sheppard_color = '#8b1962'\n",
    "yonge_color = '#FFD700'\n",
    "colors=[bloor_color, scarborough_color, sheppard_color, yonge_color]"
   ]
  },
  {
   "cell_type": "code",
   "execution_count": null,
   "metadata": {
    "collapsed": true
   },
   "outputs": [],
   "source": [
    "line_color_map = {\n",
    "    'Bloor-Danforth': bloor_color,\n",
    "    'Scarborough RT': scarborough_color,\n",
    "    'Sheppard': sheppard_color,\n",
    "    'Yonge-University' : yonge_color\n",
    "}"
   ]
  },
  {
   "cell_type": "code",
   "execution_count": 19,
   "metadata": {
    "collapsed": true
   },
   "outputs": [],
   "source": [
    "north_color = '#d12727'\n",
    "south_color = '#319647'\n",
    "east_color = '#1d6ba3'\n",
    "west_color = '#ed8021'\n",
    "direction_colors = [east_color, north_color, south_color, west_color]"
   ]
  },
  {
   "cell_type": "markdown",
   "metadata": {},
   "source": [
    "### Line Names and Legend Patches"
   ]
  },
  {
   "cell_type": "code",
   "execution_count": 20,
   "metadata": {},
   "outputs": [],
   "source": [
    "line_names = ttc['Line'].dropna().unique()\n",
    "line_names.sort()\n",
    "line_patches = []\n",
    "for index in range(len(line_names)):\n",
    "    line_patches.append(mpatches.Patch(color=colors[index], label=line_names[index]))"
   ]
  },
  {
   "cell_type": "code",
   "execution_count": null,
   "metadata": {
    "collapsed": true
   },
   "outputs": [],
   "source": []
  }
 ],
 "metadata": {
  "kernelspec": {
   "display_name": "Python 3",
   "language": "python",
   "name": "python3"
  },
  "language_info": {
   "codemirror_mode": {
    "name": "ipython",
    "version": 3
   },
   "file_extension": ".py",
   "mimetype": "text/x-python",
   "name": "python",
   "nbconvert_exporter": "python",
   "pygments_lexer": "ipython3",
   "version": "3.6.1"
  }
 },
 "nbformat": 4,
 "nbformat_minor": 2
}
