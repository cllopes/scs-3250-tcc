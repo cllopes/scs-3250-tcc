{
 "cells": [
  {
   "cell_type": "markdown",
   "metadata": {},
   "source": [
    "# Lines and Bound"
   ]
  },
  {
   "cell_type": "code",
   "execution_count": 1,
   "metadata": {
    "collapsed": true
   },
   "outputs": [],
   "source": [
    "import pandas as pd\n",
    "import numpy as np\n",
    "import matplotlib.pyplot as plt\n",
    "import matplotlib.patches as mpatches\n",
    "from mpl_toolkits.mplot3d import axes3d, Axes3D"
   ]
  },
  {
   "cell_type": "code",
   "execution_count": 8,
   "metadata": {},
   "outputs": [],
   "source": [
    "%run 'Color_and_Legends.ipynb'"
   ]
  },
  {
   "cell_type": "code",
   "execution_count": 3,
   "metadata": {},
   "outputs": [
    {
     "data": {
      "text/html": [
       "<div>\n",
       "<style>\n",
       "    .dataframe thead tr:only-child th {\n",
       "        text-align: right;\n",
       "    }\n",
       "\n",
       "    .dataframe thead th {\n",
       "        text-align: left;\n",
       "    }\n",
       "\n",
       "    .dataframe tbody tr th {\n",
       "        vertical-align: top;\n",
       "    }\n",
       "</style>\n",
       "<table border=\"1\" class=\"dataframe\">\n",
       "  <thead>\n",
       "    <tr style=\"text-align: right;\">\n",
       "      <th></th>\n",
       "      <th>Date</th>\n",
       "      <th>Time</th>\n",
       "      <th>Day</th>\n",
       "      <th>Station</th>\n",
       "      <th>Code</th>\n",
       "      <th>Min Delay</th>\n",
       "      <th>Min Gap</th>\n",
       "      <th>Bound</th>\n",
       "      <th>Line</th>\n",
       "      <th>Vehicle</th>\n",
       "      <th>Station_original</th>\n",
       "      <th>Line_ori</th>\n",
       "      <th>Code Description</th>\n",
       "      <th>Hour</th>\n",
       "    </tr>\n",
       "  </thead>\n",
       "  <tbody>\n",
       "    <tr>\n",
       "      <th>0</th>\n",
       "      <td>1/1/2014</td>\n",
       "      <td>02:06</td>\n",
       "      <td>Wednesday</td>\n",
       "      <td>HIGH PARK</td>\n",
       "      <td>SUDP</td>\n",
       "      <td>3</td>\n",
       "      <td>7</td>\n",
       "      <td>West</td>\n",
       "      <td>Bloor-Danforth</td>\n",
       "      <td>5001.0</td>\n",
       "      <td>HIGH PARK STATION</td>\n",
       "      <td>BD</td>\n",
       "      <td>Disorderly Patron</td>\n",
       "      <td>2</td>\n",
       "    </tr>\n",
       "    <tr>\n",
       "      <th>1</th>\n",
       "      <td>1/1/2014</td>\n",
       "      <td>02:40</td>\n",
       "      <td>Wednesday</td>\n",
       "      <td>SHEPPARD - YU</td>\n",
       "      <td>MUNCA</td>\n",
       "      <td>0</td>\n",
       "      <td>0</td>\n",
       "      <td>NaN</td>\n",
       "      <td>Yonge-University</td>\n",
       "      <td>NaN</td>\n",
       "      <td>SHEPPARD STATION</td>\n",
       "      <td>YU</td>\n",
       "      <td>NaN</td>\n",
       "      <td>2</td>\n",
       "    </tr>\n",
       "    <tr>\n",
       "      <th>2</th>\n",
       "      <td>1/1/2014</td>\n",
       "      <td>03:10</td>\n",
       "      <td>Wednesday</td>\n",
       "      <td>LANSDOWNE</td>\n",
       "      <td>SUDP</td>\n",
       "      <td>3</td>\n",
       "      <td>8</td>\n",
       "      <td>West</td>\n",
       "      <td>Bloor-Danforth</td>\n",
       "      <td>5116.0</td>\n",
       "      <td>LANSDOWNE STATION</td>\n",
       "      <td>BD</td>\n",
       "      <td>Disorderly Patron</td>\n",
       "      <td>3</td>\n",
       "    </tr>\n",
       "    <tr>\n",
       "      <th>3</th>\n",
       "      <td>1/1/2014</td>\n",
       "      <td>03:20</td>\n",
       "      <td>Wednesday</td>\n",
       "      <td>BLOOR-YONGE - YU</td>\n",
       "      <td>MUSAN</td>\n",
       "      <td>5</td>\n",
       "      <td>10</td>\n",
       "      <td>South</td>\n",
       "      <td>Yonge-University</td>\n",
       "      <td>5386.0</td>\n",
       "      <td>BLOOR STATION</td>\n",
       "      <td>YU</td>\n",
       "      <td>Unsanitary Vehicle</td>\n",
       "      <td>3</td>\n",
       "    </tr>\n",
       "    <tr>\n",
       "      <th>4</th>\n",
       "      <td>1/1/2014</td>\n",
       "      <td>03:29</td>\n",
       "      <td>Wednesday</td>\n",
       "      <td>DUFFERIN</td>\n",
       "      <td>MUPAA</td>\n",
       "      <td>0</td>\n",
       "      <td>0</td>\n",
       "      <td>East</td>\n",
       "      <td>Bloor-Danforth</td>\n",
       "      <td>5174.0</td>\n",
       "      <td>DUFFERIN STATION</td>\n",
       "      <td>BD</td>\n",
       "      <td>Passenger Assistance Alarm Activated - No Trou...</td>\n",
       "      <td>3</td>\n",
       "    </tr>\n",
       "  </tbody>\n",
       "</table>\n",
       "</div>"
      ],
      "text/plain": [
       "       Date   Time        Day           Station   Code  Min Delay  Min Gap  \\\n",
       "0  1/1/2014  02:06  Wednesday         HIGH PARK   SUDP          3        7   \n",
       "1  1/1/2014  02:40  Wednesday     SHEPPARD - YU  MUNCA          0        0   \n",
       "2  1/1/2014  03:10  Wednesday         LANSDOWNE   SUDP          3        8   \n",
       "3  1/1/2014  03:20  Wednesday  BLOOR-YONGE - YU  MUSAN          5       10   \n",
       "4  1/1/2014  03:29  Wednesday          DUFFERIN  MUPAA          0        0   \n",
       "\n",
       "   Bound              Line  Vehicle   Station_original Line_ori  \\\n",
       "0   West    Bloor-Danforth   5001.0  HIGH PARK STATION       BD   \n",
       "1    NaN  Yonge-University      NaN   SHEPPARD STATION       YU   \n",
       "2   West    Bloor-Danforth   5116.0  LANSDOWNE STATION       BD   \n",
       "3  South  Yonge-University   5386.0      BLOOR STATION       YU   \n",
       "4   East    Bloor-Danforth   5174.0   DUFFERIN STATION       BD   \n",
       "\n",
       "                                    Code Description  Hour  \n",
       "0                                  Disorderly Patron     2  \n",
       "1                                                NaN     2  \n",
       "2                                  Disorderly Patron     3  \n",
       "3                                 Unsanitary Vehicle     3  \n",
       "4  Passenger Assistance Alarm Activated - No Trou...     3  "
      ]
     },
     "execution_count": 3,
     "metadata": {},
     "output_type": "execute_result"
    }
   ],
   "source": [
    "ttc = pd.read_csv('../ttc_delays_cleaned.csv')\n",
    "ttc['Hour'] = pd.to_datetime(ttc['Time'], format='%H:%M').dt.hour\n",
    "ttc.head()"
   ]
  },
  {
   "cell_type": "markdown",
   "metadata": {},
   "source": [
    "The number of delays on each line"
   ]
  },
  {
   "cell_type": "code",
   "execution_count": 4,
   "metadata": {},
   "outputs": [
    {
     "ename": "NameError",
     "evalue": "name 'colors' is not defined",
     "output_type": "error",
     "traceback": [
      "\u001b[0;31m---------------------------------------------------------------------------\u001b[0m",
      "\u001b[0;31mNameError\u001b[0m                                 Traceback (most recent call last)",
      "\u001b[0;32m<ipython-input-4-448d8400cdce>\u001b[0m in \u001b[0;36m<module>\u001b[0;34m()\u001b[0m\n\u001b[1;32m      3\u001b[0m \u001b[0;34m\u001b[0m\u001b[0m\n\u001b[1;32m      4\u001b[0m \u001b[0mfig\u001b[0m\u001b[0;34m,\u001b[0m \u001b[0max\u001b[0m \u001b[0;34m=\u001b[0m \u001b[0mplt\u001b[0m\u001b[0;34m.\u001b[0m\u001b[0msubplots\u001b[0m\u001b[0;34m(\u001b[0m\u001b[0;36m2\u001b[0m\u001b[0;34m,\u001b[0m\u001b[0;36m2\u001b[0m\u001b[0;34m,\u001b[0m \u001b[0mfigsize\u001b[0m\u001b[0;34m=\u001b[0m\u001b[0;34m(\u001b[0m\u001b[0;36m10\u001b[0m\u001b[0;34m,\u001b[0m\u001b[0;36m10\u001b[0m\u001b[0;34m)\u001b[0m\u001b[0;34m)\u001b[0m\u001b[0;34m\u001b[0m\u001b[0m\n\u001b[0;32m----> 5\u001b[0;31m \u001b[0max\u001b[0m\u001b[0;34m[\u001b[0m\u001b[0;36m0\u001b[0m\u001b[0;34m]\u001b[0m\u001b[0;34m[\u001b[0m\u001b[0;36m0\u001b[0m\u001b[0;34m]\u001b[0m\u001b[0;34m.\u001b[0m\u001b[0mbar\u001b[0m\u001b[0;34m(\u001b[0m\u001b[0mx\u001b[0m\u001b[0;34m,\u001b[0m\u001b[0mlines\u001b[0m\u001b[0;34m.\u001b[0m\u001b[0msize\u001b[0m\u001b[0;34m(\u001b[0m\u001b[0;34m)\u001b[0m\u001b[0;34m.\u001b[0m\u001b[0mvalues\u001b[0m\u001b[0;34m,\u001b[0m \u001b[0mcolor\u001b[0m\u001b[0;34m=\u001b[0m\u001b[0mcolors\u001b[0m\u001b[0;34m)\u001b[0m\u001b[0;34m\u001b[0m\u001b[0m\n\u001b[0m\u001b[1;32m      6\u001b[0m \u001b[0max\u001b[0m\u001b[0;34m[\u001b[0m\u001b[0;36m0\u001b[0m\u001b[0;34m]\u001b[0m\u001b[0;34m[\u001b[0m\u001b[0;36m0\u001b[0m\u001b[0;34m]\u001b[0m\u001b[0;34m.\u001b[0m\u001b[0mset_title\u001b[0m\u001b[0;34m(\u001b[0m\u001b[0;34m'Number of delays'\u001b[0m\u001b[0;34m)\u001b[0m\u001b[0;34m\u001b[0m\u001b[0m\n\u001b[1;32m      7\u001b[0m \u001b[0;34m\u001b[0m\u001b[0m\n",
      "\u001b[0;31mNameError\u001b[0m: name 'colors' is not defined"
     ]
    }
   ],
   "source": [
    "lines = ttc.groupby('Line')\n",
    "x = np.arange(4)\n",
    "\n",
    "fig, ax = plt.subplots(2,2, figsize=(10,10))\n",
    "ax[0][0].bar(x,lines.size().values, color=colors)\n",
    "ax[0][0].set_title('Number of delays')\n",
    "\n",
    "ax[0][1].bar(x,lines['Min Delay'].sum().values, color=colors)\n",
    "ax[0][1].set_title('Sum of delays length')\n",
    "\n",
    "ax[1][0].bar(x,lines['Min Delay'].mean().values, color=colors)\n",
    "ax[1][0].set_title('Average Delays Length')\n",
    "\n",
    "ax[1][1].bar(x,lines['Min Gap'].mean().values, color=colors)\n",
    "ax[1][1].set_title('Average Min Gap')\n",
    "ax[0][0].legend(handles=line_patches)\n",
    "\n",
    "\n",
    "plt.show()"
   ]
  },
  {
   "cell_type": "markdown",
   "metadata": {},
   "source": [
    "## Bound"
   ]
  },
  {
   "cell_type": "code",
   "execution_count": null,
   "metadata": {},
   "outputs": [],
   "source": [
    "fix, ax = plt.subplots(1,3,figsize=(15,5))\n",
    "line_bound = ttc.groupby(['Line', 'Bound'])\n",
    "\n",
    "directions = line_bound.size().unstack()\n",
    "directions.plot.bar(color=direction_colors, ax=ax[0], title='Number of Delays')\n",
    "\n",
    "directions = line_bound['Min Delay'].mean().unstack()\n",
    "directions.plot.bar(color=direction_colors, ax=ax[1], title='Average Delay')\n",
    "\n",
    "directions = line_bound['Min Delay'].sum().unstack()\n",
    "directions.plot.bar(color=direction_colors, ax=ax[2], title='Total Delay')\n",
    "\n",
    "plt.show()"
   ]
  },
  {
   "cell_type": "markdown",
   "metadata": {},
   "source": [
    "Initial Braekdown by time of day"
   ]
  },
  {
   "cell_type": "code",
   "execution_count": null,
   "metadata": {},
   "outputs": [],
   "source": [
    "ttc['Hour'] = pd.to_datetime(ttc['Time'], format='%H:%M').dt.hour\n",
    "ttc.groupby('Hour').size().plot.bar()\n",
    "plt.show()"
   ]
  },
  {
   "cell_type": "markdown",
   "metadata": {},
   "source": [
    "Lets look a the line and the time of day"
   ]
  },
  {
   "cell_type": "code",
   "execution_count": null,
   "metadata": {},
   "outputs": [],
   "source": [
    "ct = pd.crosstab(ttc.Hour, ttc.Line, normalize='columns')\n",
    "\n",
    "fig = plt.figure(figsize=(12,9))\n",
    "ax = fig.add_subplot(111, projection='3d')\n",
    "\n",
    "ct.shape #(24, 4)\n",
    "x_num = ct.shape[0]\n",
    "y_num = ct.shape[1]\n",
    "\n",
    "\n",
    "x = np.tile(np.arange(0,x_num), y_num)\n",
    "y = np.repeat(np.arange(0,y_num), x_num)\n",
    "z = np.zeros(x_num*y_num)\n",
    "height = np.append(ct['Bloor-Danforth'].values, [ct['Scarborough RT'].values, ct['Sheppard'].values, ct['Yonge-University'].values])\n",
    "# height = np.append(ct['Bloor-Danforth'].values, [ct['Bloor-Danforth'].values, ct['Bloor-Danforth'].values, ct['Bloor-Danforth'].values])\n",
    "\n",
    "\n",
    "colors = ['#2b720a'] * x_num + ['#0a6797'] * x_num + ['#8b1962'] * x_num + ['#FFD700'] *x_num\n",
    "alpha = 0.80\n",
    "ax.bar3d(x,y,z,0.5,0.3, height, color=colors, alpha=alpha)\n",
    "ax.set_xticks(np.arange(0,x_num))\n",
    "ax.set_yticks(np.arange(0,y_num))\n",
    "ax.set_yticklabels(line_names)\n",
    "\n",
    "\n",
    "plt.show()"
   ]
  },
  {
   "cell_type": "markdown",
   "metadata": {},
   "source": [
    "Lets look at the direction based on the time of day"
   ]
  },
  {
   "cell_type": "code",
   "execution_count": null,
   "metadata": {},
   "outputs": [],
   "source": [
    "fig, ax = plt.subplots(2,2, figsize=(15,10), sharex=True, sharey=True)\n",
    "x = np.arange(24)\n",
    "yonge = ttc[ttc['Line'] == 'Yonge-University']\n",
    "yonge_ns = pd.crosstab(yonge.Hour, yonge.Bound, normalize='columns')\n",
    "ax[0][0].bar(x,yonge_ns['North'], color=north_color, alpha=0.65, label='North')\n",
    "ax[0][0].bar(x,yonge_ns['South'], color=south_color, alpha=0.65, label='South')\n",
    "ax[0][0].set_xticks(x)\n",
    "ax[0][0].set_title('Yonge-University')\n",
    "ax[0][0].legend()\n",
    "\n",
    "bloor = ttc[ttc['Line'] == 'Bloor-Danforth']\n",
    "bloor = pd.crosstab(bloor.Hour, bloor.Bound, normalize='columns')\n",
    "ax[0][1].bar(x,bloor['East'], color=east_color, alpha=0.65, label='East')\n",
    "ax[0][1].bar(x,bloor['West'], color=west_color, alpha=0.65, label='West')\n",
    "ax[0][1].set_xticks(x)\n",
    "ax[0][1].set_title('Bloor-Danforth')\n",
    "ax[0][1].legend()\n",
    "\n",
    "shepard = ttc[ttc['Line'] == 'Sheppard']\n",
    "shepard = pd.crosstab(shepard.Hour, shepard.Bound, normalize='columns')\n",
    "ax[1][0].bar(x,shepard['East'], color=east_color, alpha=0.65, label='East')\n",
    "ax[1][0].bar(x,shepard['West'], color=west_color, alpha=0.65, label='West')\n",
    "ax[1][0].set_xticks(x)\n",
    "ax[1][0].set_title('Sheppard')\n",
    "ax[1][0].set_xlabel('Hour')\n",
    "ax[0][1].legend()\n",
    "\n",
    "scarborough = ttc[ttc['Line'] == 'Scarborough RT']\n",
    "scarborough = pd.crosstab(scarborough.Hour, scarborough.Bound, normalize='columns')\n",
    "scarborough.loc[4] = [0,0]\n",
    "ax[1][1].bar(x,scarborough['East'], color=east_color, alpha=0.65, label='East')\n",
    "ax[1][1].bar(x,scarborough['West'], color=west_color, alpha=0.65, label='West')\n",
    "ax[1][1].set_xticks(x)\n",
    "ax[1][1].set_title('Scarborough RT')\n",
    "ax[1][1].set_xlabel('Hour')\n",
    "ax[0][1].legend()\n",
    "\n",
    "plt.show()"
   ]
  },
  {
   "cell_type": "code",
   "execution_count": null,
   "metadata": {
    "collapsed": true
   },
   "outputs": [],
   "source": []
  },
  {
   "cell_type": "code",
   "execution_count": null,
   "metadata": {
    "collapsed": true
   },
   "outputs": [],
   "source": []
  },
  {
   "cell_type": "code",
   "execution_count": null,
   "metadata": {
    "collapsed": true
   },
   "outputs": [],
   "source": []
  },
  {
   "cell_type": "code",
   "execution_count": null,
   "metadata": {
    "collapsed": true
   },
   "outputs": [],
   "source": []
  }
 ],
 "metadata": {
  "kernelspec": {
   "display_name": "Python 3",
   "language": "python",
   "name": "python3"
  },
  "language_info": {
   "codemirror_mode": {
    "name": "ipython",
    "version": 3
   },
   "file_extension": ".py",
   "mimetype": "text/x-python",
   "name": "python",
   "nbconvert_exporter": "python",
   "pygments_lexer": "ipython3",
   "version": "3.6.1"
  },
  "varInspector": {
   "cols": {
    "lenName": 16,
    "lenType": 16,
    "lenVar": 40
   },
   "kernels_config": {
    "python": {
     "delete_cmd_postfix": "",
     "delete_cmd_prefix": "del ",
     "library": "var_list.py",
     "varRefreshCmd": "print(var_dic_list())"
    },
    "r": {
     "delete_cmd_postfix": ") ",
     "delete_cmd_prefix": "rm(",
     "library": "var_list.r",
     "varRefreshCmd": "cat(var_dic_list()) "
    }
   },
   "types_to_exclude": [
    "module",
    "function",
    "builtin_function_or_method",
    "instance",
    "_Feature"
   ],
   "window_display": false
  }
 },
 "nbformat": 4,
 "nbformat_minor": 2
}
