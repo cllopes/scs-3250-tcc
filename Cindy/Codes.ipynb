{
 "cells": [
  {
   "cell_type": "markdown",
   "metadata": {},
   "source": [
    "# Codes"
   ]
  },
  {
   "cell_type": "code",
   "execution_count": 5,
   "metadata": {
    "collapsed": true
   },
   "outputs": [],
   "source": [
    "import pandas as pd\n",
    "import numpy as np\n",
    "import matplotlib.pyplot as plt"
   ]
  },
  {
   "cell_type": "code",
   "execution_count": 6,
   "metadata": {
    "collapsed": true
   },
   "outputs": [],
   "source": [
    "ttc = pd.read_csv('../ttc_delays_cleaned.csv')\n",
    "ttc['Date'] = pd.to_datetime(ttc['Date'])"
   ]
  },
  {
   "cell_type": "code",
   "execution_count": 26,
   "metadata": {
    "collapsed": true
   },
   "outputs": [],
   "source": [
    "stations = pd.read_csv('../stations_cleaned.csv')"
   ]
  },
  {
   "cell_type": "markdown",
   "metadata": {},
   "source": [
    "## All the top codes"
   ]
  },
  {
   "cell_type": "code",
   "execution_count": 27,
   "metadata": {},
   "outputs": [
    {
     "data": {
      "text/plain": [
       "Code\n",
       "MUSC     13741\n",
       "TUSC     10192\n",
       "MUPAA     4878\n",
       "MUGD      4094\n",
       "MUIS      4021\n",
       "MUO       3123\n",
       "SUDP      2628\n",
       "MUIR      2369\n",
       "MUI       2006\n",
       "TUMVS     1766\n",
       "PUMEL     1663\n",
       "MUNCA     1561\n",
       "EUDO      1186\n",
       "EUBK      1095\n",
       "SUO       1071\n",
       "MUTO       905\n",
       "MUIRS      870\n",
       "MUPLB      760\n",
       "PUMST      737\n",
       "MUDD       728\n",
       "dtype: int64"
      ]
     },
     "execution_count": 27,
     "metadata": {},
     "output_type": "execute_result"
    }
   ],
   "source": [
    "all_top_codes = ttc.groupby('Code').size().sort_values(ascending=False)\n",
    "all_top_codes.head(20)"
   ]
  },
  {
   "cell_type": "markdown",
   "metadata": {},
   "source": [
    "### Top codes by line"
   ]
  },
  {
   "cell_type": "code",
   "execution_count": 29,
   "metadata": {},
   "outputs": [
    {
     "data": {
      "text/plain": [
       "Line              Code Description                                       \n",
       "Bloor-Danforth    Miscellaneous Speed Control                                8848\n",
       "                  Operator Overspeeding                                      5812\n",
       "Yonge-University  Miscellaneous Speed Control                                4349\n",
       "                  Operator Overspeeding                                      4012\n",
       "                  Passenger Assistance Alarm Activated - No Trouble Found    3693\n",
       "dtype: int64"
      ]
     },
     "execution_count": 29,
     "metadata": {},
     "output_type": "execute_result"
    }
   ],
   "source": [
    "line_codes = ttc.groupby(['Line', 'Code Description']).size().sort_values(ascending=False)\n",
    "line_codes.head(5)"
   ]
  },
  {
   "cell_type": "code",
   "execution_count": 38,
   "metadata": {},
   "outputs": [
    {
     "data": {
      "text/html": [
       "<div>\n",
       "<style>\n",
       "    .dataframe thead tr:only-child th {\n",
       "        text-align: right;\n",
       "    }\n",
       "\n",
       "    .dataframe thead th {\n",
       "        text-align: left;\n",
       "    }\n",
       "\n",
       "    .dataframe tbody tr th {\n",
       "        vertical-align: top;\n",
       "    }\n",
       "</style>\n",
       "<table border=\"1\" class=\"dataframe\">\n",
       "  <thead>\n",
       "    <tr style=\"text-align: right;\">\n",
       "      <th></th>\n",
       "      <th>Bloor-Danforth</th>\n",
       "      <th>Scarborough RT</th>\n",
       "      <th>Sheppard</th>\n",
       "      <th>Yonge-University</th>\n",
       "    </tr>\n",
       "  </thead>\n",
       "  <tbody>\n",
       "    <tr>\n",
       "      <th>Disorderly Patron</th>\n",
       "      <td>1390.0</td>\n",
       "      <td>NaN</td>\n",
       "      <td>NaN</td>\n",
       "      <td>1188.0</td>\n",
       "    </tr>\n",
       "    <tr>\n",
       "      <th>Door Problems - Faulty Equipment</th>\n",
       "      <td>NaN</td>\n",
       "      <td>262.0</td>\n",
       "      <td>56.0</td>\n",
       "      <td>NaN</td>\n",
       "    </tr>\n",
       "    <tr>\n",
       "      <th>Escalator/Elevator Incident</th>\n",
       "      <td>854.0</td>\n",
       "      <td>62.0</td>\n",
       "      <td>54.0</td>\n",
       "      <td>NaN</td>\n",
       "    </tr>\n",
       "    <tr>\n",
       "      <th>Injured or ill Customer (In Station) - Transported</th>\n",
       "      <td>1951.0</td>\n",
       "      <td>NaN</td>\n",
       "      <td>96.0</td>\n",
       "      <td>1916.0</td>\n",
       "    </tr>\n",
       "    <tr>\n",
       "      <th>Injured or ill Customer (On Train) - Medical Aid Refused</th>\n",
       "      <td>1046.0</td>\n",
       "      <td>NaN</td>\n",
       "      <td>NaN</td>\n",
       "      <td>1291.0</td>\n",
       "    </tr>\n",
       "    <tr>\n",
       "      <th>Injured or ill Customer (On Train) - Transported</th>\n",
       "      <td>939.0</td>\n",
       "      <td>87.0</td>\n",
       "      <td>NaN</td>\n",
       "      <td>1028.0</td>\n",
       "    </tr>\n",
       "    <tr>\n",
       "      <th>Misc. Transportation Other - Employee Non-Chargeable</th>\n",
       "      <td>NaN</td>\n",
       "      <td>NaN</td>\n",
       "      <td>58.0</td>\n",
       "      <td>NaN</td>\n",
       "    </tr>\n",
       "    <tr>\n",
       "      <th>Miscellaneous General Delays</th>\n",
       "      <td>1714.0</td>\n",
       "      <td>NaN</td>\n",
       "      <td>NaN</td>\n",
       "      <td>2311.0</td>\n",
       "    </tr>\n",
       "    <tr>\n",
       "      <th>Miscellaneous Other</th>\n",
       "      <td>1301.0</td>\n",
       "      <td>409.0</td>\n",
       "      <td>151.0</td>\n",
       "      <td>1189.0</td>\n",
       "    </tr>\n",
       "    <tr>\n",
       "      <th>Miscellaneous Speed Control</th>\n",
       "      <td>8848.0</td>\n",
       "      <td>NaN</td>\n",
       "      <td>534.0</td>\n",
       "      <td>4349.0</td>\n",
       "    </tr>\n",
       "    <tr>\n",
       "      <th>OPTO (COMMS) Train Door Monitoring</th>\n",
       "      <td>NaN</td>\n",
       "      <td>NaN</td>\n",
       "      <td>114.0</td>\n",
       "      <td>NaN</td>\n",
       "    </tr>\n",
       "    <tr>\n",
       "      <th>Operator Overspeeding</th>\n",
       "      <td>5812.0</td>\n",
       "      <td>NaN</td>\n",
       "      <td>363.0</td>\n",
       "      <td>4012.0</td>\n",
       "    </tr>\n",
       "    <tr>\n",
       "      <th>Operator Violated Signal</th>\n",
       "      <td>NaN</td>\n",
       "      <td>NaN</td>\n",
       "      <td>135.0</td>\n",
       "      <td>918.0</td>\n",
       "    </tr>\n",
       "    <tr>\n",
       "      <th>Other</th>\n",
       "      <td>NaN</td>\n",
       "      <td>61.0</td>\n",
       "      <td>NaN</td>\n",
       "      <td>NaN</td>\n",
       "    </tr>\n",
       "    <tr>\n",
       "      <th>Passenger Assistance Alarm Activated - No Trouble Found</th>\n",
       "      <td>1070.0</td>\n",
       "      <td>66.0</td>\n",
       "      <td>114.0</td>\n",
       "      <td>3693.0</td>\n",
       "    </tr>\n",
       "    <tr>\n",
       "      <th>Propulsion System</th>\n",
       "      <td>NaN</td>\n",
       "      <td>129.0</td>\n",
       "      <td>NaN</td>\n",
       "      <td>NaN</td>\n",
       "    </tr>\n",
       "    <tr>\n",
       "      <th>Timeout</th>\n",
       "      <td>NaN</td>\n",
       "      <td>546.0</td>\n",
       "      <td>NaN</td>\n",
       "      <td>NaN</td>\n",
       "    </tr>\n",
       "    <tr>\n",
       "      <th>Train Control - VOBC</th>\n",
       "      <td>NaN</td>\n",
       "      <td>300.0</td>\n",
       "      <td>NaN</td>\n",
       "      <td>NaN</td>\n",
       "    </tr>\n",
       "    <tr>\n",
       "      <th>Weather Reports / Related Delays</th>\n",
       "      <td>NaN</td>\n",
       "      <td>72.0</td>\n",
       "      <td>NaN</td>\n",
       "      <td>NaN</td>\n",
       "    </tr>\n",
       "  </tbody>\n",
       "</table>\n",
       "</div>"
      ],
      "text/plain": [
       "                                                    Bloor-Danforth  \\\n",
       "Disorderly Patron                                           1390.0   \n",
       "Door Problems - Faulty Equipment                               NaN   \n",
       "Escalator/Elevator Incident                                  854.0   \n",
       "Injured or ill Customer (In Station) - Transported          1951.0   \n",
       "Injured or ill Customer (On Train) - Medical Ai...          1046.0   \n",
       "Injured or ill Customer (On Train) - Transported             939.0   \n",
       "Misc. Transportation Other - Employee Non-Charg...             NaN   \n",
       "Miscellaneous General Delays                                1714.0   \n",
       "Miscellaneous Other                                         1301.0   \n",
       "Miscellaneous Speed Control                                 8848.0   \n",
       "OPTO (COMMS) Train Door Monitoring                             NaN   \n",
       "Operator Overspeeding                                       5812.0   \n",
       "Operator Violated Signal                                       NaN   \n",
       "Other                                                          NaN   \n",
       "Passenger Assistance Alarm Activated - No Troub...          1070.0   \n",
       "Propulsion System                                              NaN   \n",
       "Timeout                                                        NaN   \n",
       "Train Control - VOBC                                           NaN   \n",
       "Weather Reports / Related Delays                               NaN   \n",
       "\n",
       "                                                    Scarborough RT  Sheppard  \\\n",
       "Disorderly Patron                                              NaN       NaN   \n",
       "Door Problems - Faulty Equipment                             262.0      56.0   \n",
       "Escalator/Elevator Incident                                   62.0      54.0   \n",
       "Injured or ill Customer (In Station) - Transported             NaN      96.0   \n",
       "Injured or ill Customer (On Train) - Medical Ai...             NaN       NaN   \n",
       "Injured or ill Customer (On Train) - Transported              87.0       NaN   \n",
       "Misc. Transportation Other - Employee Non-Charg...             NaN      58.0   \n",
       "Miscellaneous General Delays                                   NaN       NaN   \n",
       "Miscellaneous Other                                          409.0     151.0   \n",
       "Miscellaneous Speed Control                                    NaN     534.0   \n",
       "OPTO (COMMS) Train Door Monitoring                             NaN     114.0   \n",
       "Operator Overspeeding                                          NaN     363.0   \n",
       "Operator Violated Signal                                       NaN     135.0   \n",
       "Other                                                         61.0       NaN   \n",
       "Passenger Assistance Alarm Activated - No Troub...            66.0     114.0   \n",
       "Propulsion System                                            129.0       NaN   \n",
       "Timeout                                                      546.0       NaN   \n",
       "Train Control - VOBC                                         300.0       NaN   \n",
       "Weather Reports / Related Delays                              72.0       NaN   \n",
       "\n",
       "                                                    Yonge-University  \n",
       "Disorderly Patron                                             1188.0  \n",
       "Door Problems - Faulty Equipment                                 NaN  \n",
       "Escalator/Elevator Incident                                      NaN  \n",
       "Injured or ill Customer (In Station) - Transported            1916.0  \n",
       "Injured or ill Customer (On Train) - Medical Ai...            1291.0  \n",
       "Injured or ill Customer (On Train) - Transported              1028.0  \n",
       "Misc. Transportation Other - Employee Non-Charg...               NaN  \n",
       "Miscellaneous General Delays                                  2311.0  \n",
       "Miscellaneous Other                                           1189.0  \n",
       "Miscellaneous Speed Control                                   4349.0  \n",
       "OPTO (COMMS) Train Door Monitoring                               NaN  \n",
       "Operator Overspeeding                                         4012.0  \n",
       "Operator Violated Signal                                       918.0  \n",
       "Other                                                            NaN  \n",
       "Passenger Assistance Alarm Activated - No Troub...            3693.0  \n",
       "Propulsion System                                                NaN  \n",
       "Timeout                                                          NaN  \n",
       "Train Control - VOBC                                             NaN  \n",
       "Weather Reports / Related Delays                                 NaN  "
      ]
     },
     "execution_count": 38,
     "metadata": {},
     "output_type": "execute_result"
    }
   ],
   "source": [
    "groups = ttc.groupby(['Line'], as_index=False)\n",
    "final = {}\n",
    "for title, g in groups:\n",
    "   final[title] = g.groupby('Code Description').size().sort_values(ascending=False).head(10)\n",
    "\n",
    "final_df = pd.DataFrame(final)\n",
    "final_df"
   ]
  },
  {
   "cell_type": "markdown",
   "metadata": {},
   "source": [
    "Some codes are pretty common across lines: Miscellaneous Other /Passenger Assistance Alarm Activated - No Trouble Found\n",
    "\n",
    "While others are more unique: Weather Reports / Related Delays -- scar\n",
    "Propulsion System, Train Control - VOBC, Timeout"
   ]
  },
  {
   "cell_type": "markdown",
   "metadata": {},
   "source": [
    "What about if we look at total time of each delay"
   ]
  },
  {
   "cell_type": "code",
   "execution_count": 39,
   "metadata": {},
   "outputs": [
    {
     "data": {
      "text/html": [
       "<div>\n",
       "<style>\n",
       "    .dataframe thead tr:only-child th {\n",
       "        text-align: right;\n",
       "    }\n",
       "\n",
       "    .dataframe thead th {\n",
       "        text-align: left;\n",
       "    }\n",
       "\n",
       "    .dataframe tbody tr th {\n",
       "        vertical-align: top;\n",
       "    }\n",
       "</style>\n",
       "<table border=\"1\" class=\"dataframe\">\n",
       "  <thead>\n",
       "    <tr style=\"text-align: right;\">\n",
       "      <th></th>\n",
       "      <th>Bloor-Danforth</th>\n",
       "      <th>Scarborough RT</th>\n",
       "      <th>Sheppard</th>\n",
       "      <th>Yonge-University</th>\n",
       "    </tr>\n",
       "  </thead>\n",
       "  <tbody>\n",
       "    <tr>\n",
       "      <th>Disorderly Patron</th>\n",
       "      <td>4269.0</td>\n",
       "      <td>NaN</td>\n",
       "      <td>174.0</td>\n",
       "      <td>4121.0</td>\n",
       "    </tr>\n",
       "    <tr>\n",
       "      <th>Door Problems - Debris Related</th>\n",
       "      <td>2111.0</td>\n",
       "      <td>NaN</td>\n",
       "      <td>NaN</td>\n",
       "      <td>NaN</td>\n",
       "    </tr>\n",
       "    <tr>\n",
       "      <th>Door Problems - Faulty Equipment</th>\n",
       "      <td>3059.0</td>\n",
       "      <td>1123.0</td>\n",
       "      <td>247.0</td>\n",
       "      <td>1756.0</td>\n",
       "    </tr>\n",
       "    <tr>\n",
       "      <th>Fire/Smoke Plan B</th>\n",
       "      <td>6383.0</td>\n",
       "      <td>NaN</td>\n",
       "      <td>838.0</td>\n",
       "      <td>3474.0</td>\n",
       "    </tr>\n",
       "    <tr>\n",
       "      <th>High Voltage</th>\n",
       "      <td>NaN</td>\n",
       "      <td>2023.0</td>\n",
       "      <td>NaN</td>\n",
       "      <td>NaN</td>\n",
       "    </tr>\n",
       "    <tr>\n",
       "      <th>Injured or ill Customer (On Train) - Medical Aid Refused</th>\n",
       "      <td>3394.0</td>\n",
       "      <td>NaN</td>\n",
       "      <td>NaN</td>\n",
       "      <td>4073.0</td>\n",
       "    </tr>\n",
       "    <tr>\n",
       "      <th>Injured or ill Customer (On Train) - Transported</th>\n",
       "      <td>5185.0</td>\n",
       "      <td>NaN</td>\n",
       "      <td>NaN</td>\n",
       "      <td>5391.0</td>\n",
       "    </tr>\n",
       "    <tr>\n",
       "      <th>Misc. Transportation Other - Employee Non-Chargeable</th>\n",
       "      <td>NaN</td>\n",
       "      <td>NaN</td>\n",
       "      <td>203.0</td>\n",
       "      <td>NaN</td>\n",
       "    </tr>\n",
       "    <tr>\n",
       "      <th>Miscellaneous Other</th>\n",
       "      <td>NaN</td>\n",
       "      <td>677.0</td>\n",
       "      <td>265.0</td>\n",
       "      <td>1673.0</td>\n",
       "    </tr>\n",
       "    <tr>\n",
       "      <th>Miscellaneous Speed Control</th>\n",
       "      <td>1815.0</td>\n",
       "      <td>NaN</td>\n",
       "      <td>228.0</td>\n",
       "      <td>NaN</td>\n",
       "    </tr>\n",
       "    <tr>\n",
       "      <th>OPTO (COMMS) Train Door Monitoring</th>\n",
       "      <td>NaN</td>\n",
       "      <td>NaN</td>\n",
       "      <td>528.0</td>\n",
       "      <td>NaN</td>\n",
       "    </tr>\n",
       "    <tr>\n",
       "      <th>Operator Violated Signal</th>\n",
       "      <td>NaN</td>\n",
       "      <td>NaN</td>\n",
       "      <td>276.0</td>\n",
       "      <td>NaN</td>\n",
       "    </tr>\n",
       "    <tr>\n",
       "      <th>Other</th>\n",
       "      <td>NaN</td>\n",
       "      <td>795.0</td>\n",
       "      <td>NaN</td>\n",
       "      <td>NaN</td>\n",
       "    </tr>\n",
       "    <tr>\n",
       "      <th>Passenger Assistance Alarm Activated - No Trouble Found</th>\n",
       "      <td>NaN</td>\n",
       "      <td>NaN</td>\n",
       "      <td>NaN</td>\n",
       "      <td>2568.0</td>\n",
       "    </tr>\n",
       "    <tr>\n",
       "      <th>Passenger Other</th>\n",
       "      <td>1929.0</td>\n",
       "      <td>NaN</td>\n",
       "      <td>NaN</td>\n",
       "      <td>1788.0</td>\n",
       "    </tr>\n",
       "    <tr>\n",
       "      <th>Priority One - Train in Contact With Person</th>\n",
       "      <td>3608.0</td>\n",
       "      <td>NaN</td>\n",
       "      <td>NaN</td>\n",
       "      <td>2425.0</td>\n",
       "    </tr>\n",
       "    <tr>\n",
       "      <th>Propulsion System</th>\n",
       "      <td>NaN</td>\n",
       "      <td>805.0</td>\n",
       "      <td>NaN</td>\n",
       "      <td>NaN</td>\n",
       "    </tr>\n",
       "    <tr>\n",
       "      <th>Rail Defect/Fastenings/Power Rail</th>\n",
       "      <td>NaN</td>\n",
       "      <td>1124.0</td>\n",
       "      <td>NaN</td>\n",
       "      <td>NaN</td>\n",
       "    </tr>\n",
       "    <tr>\n",
       "      <th>S/E/C Department Other</th>\n",
       "      <td>NaN</td>\n",
       "      <td>NaN</td>\n",
       "      <td>203.0</td>\n",
       "      <td>NaN</td>\n",
       "    </tr>\n",
       "    <tr>\n",
       "      <th>Signals or Related Components Failure</th>\n",
       "      <td>NaN</td>\n",
       "      <td>NaN</td>\n",
       "      <td>263.0</td>\n",
       "      <td>NaN</td>\n",
       "    </tr>\n",
       "    <tr>\n",
       "      <th>Timeout</th>\n",
       "      <td>NaN</td>\n",
       "      <td>1899.0</td>\n",
       "      <td>NaN</td>\n",
       "      <td>NaN</td>\n",
       "    </tr>\n",
       "    <tr>\n",
       "      <th>Train Control - VOBC</th>\n",
       "      <td>NaN</td>\n",
       "      <td>1681.0</td>\n",
       "      <td>NaN</td>\n",
       "      <td>NaN</td>\n",
       "    </tr>\n",
       "    <tr>\n",
       "      <th>Unauthorized at Track Level</th>\n",
       "      <td>2421.0</td>\n",
       "      <td>NaN</td>\n",
       "      <td>NaN</td>\n",
       "      <td>2482.0</td>\n",
       "    </tr>\n",
       "    <tr>\n",
       "      <th>VCC/RCIU/CCR</th>\n",
       "      <td>NaN</td>\n",
       "      <td>471.0</td>\n",
       "      <td>NaN</td>\n",
       "      <td>NaN</td>\n",
       "    </tr>\n",
       "    <tr>\n",
       "      <th>Weather Reports / Related Delays</th>\n",
       "      <td>NaN</td>\n",
       "      <td>1346.0</td>\n",
       "      <td>NaN</td>\n",
       "      <td>NaN</td>\n",
       "    </tr>\n",
       "  </tbody>\n",
       "</table>\n",
       "</div>"
      ],
      "text/plain": [
       "                                                    Bloor-Danforth  \\\n",
       "Disorderly Patron                                           4269.0   \n",
       "Door Problems - Debris Related                              2111.0   \n",
       "Door Problems - Faulty Equipment                            3059.0   \n",
       "Fire/Smoke Plan B                                           6383.0   \n",
       "High Voltage                                                   NaN   \n",
       "Injured or ill Customer (On Train) - Medical Ai...          3394.0   \n",
       "Injured or ill Customer (On Train) - Transported            5185.0   \n",
       "Misc. Transportation Other - Employee Non-Charg...             NaN   \n",
       "Miscellaneous Other                                            NaN   \n",
       "Miscellaneous Speed Control                                 1815.0   \n",
       "OPTO (COMMS) Train Door Monitoring                             NaN   \n",
       "Operator Violated Signal                                       NaN   \n",
       "Other                                                          NaN   \n",
       "Passenger Assistance Alarm Activated - No Troub...             NaN   \n",
       "Passenger Other                                             1929.0   \n",
       "Priority One - Train in Contact With Person                 3608.0   \n",
       "Propulsion System                                              NaN   \n",
       "Rail Defect/Fastenings/Power Rail                              NaN   \n",
       "S/E/C Department Other                                         NaN   \n",
       "Signals or Related Components Failure                          NaN   \n",
       "Timeout                                                        NaN   \n",
       "Train Control - VOBC                                           NaN   \n",
       "Unauthorized at Track Level                                 2421.0   \n",
       "VCC/RCIU/CCR                                                   NaN   \n",
       "Weather Reports / Related Delays                               NaN   \n",
       "\n",
       "                                                    Scarborough RT  Sheppard  \\\n",
       "Disorderly Patron                                              NaN     174.0   \n",
       "Door Problems - Debris Related                                 NaN       NaN   \n",
       "Door Problems - Faulty Equipment                            1123.0     247.0   \n",
       "Fire/Smoke Plan B                                              NaN     838.0   \n",
       "High Voltage                                                2023.0       NaN   \n",
       "Injured or ill Customer (On Train) - Medical Ai...             NaN       NaN   \n",
       "Injured or ill Customer (On Train) - Transported               NaN       NaN   \n",
       "Misc. Transportation Other - Employee Non-Charg...             NaN     203.0   \n",
       "Miscellaneous Other                                          677.0     265.0   \n",
       "Miscellaneous Speed Control                                    NaN     228.0   \n",
       "OPTO (COMMS) Train Door Monitoring                             NaN     528.0   \n",
       "Operator Violated Signal                                       NaN     276.0   \n",
       "Other                                                        795.0       NaN   \n",
       "Passenger Assistance Alarm Activated - No Troub...             NaN       NaN   \n",
       "Passenger Other                                                NaN       NaN   \n",
       "Priority One - Train in Contact With Person                    NaN       NaN   \n",
       "Propulsion System                                            805.0       NaN   \n",
       "Rail Defect/Fastenings/Power Rail                           1124.0       NaN   \n",
       "S/E/C Department Other                                         NaN     203.0   \n",
       "Signals or Related Components Failure                          NaN     263.0   \n",
       "Timeout                                                     1899.0       NaN   \n",
       "Train Control - VOBC                                        1681.0       NaN   \n",
       "Unauthorized at Track Level                                    NaN       NaN   \n",
       "VCC/RCIU/CCR                                                 471.0       NaN   \n",
       "Weather Reports / Related Delays                            1346.0       NaN   \n",
       "\n",
       "                                                    Yonge-University  \n",
       "Disorderly Patron                                             4121.0  \n",
       "Door Problems - Debris Related                                   NaN  \n",
       "Door Problems - Faulty Equipment                              1756.0  \n",
       "Fire/Smoke Plan B                                             3474.0  \n",
       "High Voltage                                                     NaN  \n",
       "Injured or ill Customer (On Train) - Medical Ai...            4073.0  \n",
       "Injured or ill Customer (On Train) - Transported              5391.0  \n",
       "Misc. Transportation Other - Employee Non-Charg...               NaN  \n",
       "Miscellaneous Other                                           1673.0  \n",
       "Miscellaneous Speed Control                                      NaN  \n",
       "OPTO (COMMS) Train Door Monitoring                               NaN  \n",
       "Operator Violated Signal                                         NaN  \n",
       "Other                                                            NaN  \n",
       "Passenger Assistance Alarm Activated - No Troub...            2568.0  \n",
       "Passenger Other                                               1788.0  \n",
       "Priority One - Train in Contact With Person                   2425.0  \n",
       "Propulsion System                                                NaN  \n",
       "Rail Defect/Fastenings/Power Rail                                NaN  \n",
       "S/E/C Department Other                                           NaN  \n",
       "Signals or Related Components Failure                            NaN  \n",
       "Timeout                                                          NaN  \n",
       "Train Control - VOBC                                             NaN  \n",
       "Unauthorized at Track Level                                   2482.0  \n",
       "VCC/RCIU/CCR                                                     NaN  \n",
       "Weather Reports / Related Delays                                 NaN  "
      ]
     },
     "execution_count": 39,
     "metadata": {},
     "output_type": "execute_result"
    }
   ],
   "source": [
    "groups = ttc.groupby(['Line'], as_index=False)\n",
    "final = {}\n",
    "for title, g in groups:\n",
    "   final[title] = g.groupby('Code Description')['Min Delay'].sum().sort_values(ascending=False).head(10)\n",
    "\n",
    "final_df = pd.DataFrame(final)\n",
    "final_df"
   ]
  },
  {
   "cell_type": "markdown",
   "metadata": {},
   "source": [
    "### Outdoor/Indoor Codes"
   ]
  },
  {
   "cell_type": "code",
   "execution_count": 11,
   "metadata": {
    "collapsed": true
   },
   "outputs": [],
   "source": [
    "surface = stations[stations['Grade'] == 'Surface']\n",
    "underground = stations[stations['Grade'] == 'Underground']"
   ]
  },
  {
   "cell_type": "markdown",
   "metadata": {},
   "source": [
    "#### Outdoor Codes"
   ]
  },
  {
   "cell_type": "code",
   "execution_count": 12,
   "metadata": {},
   "outputs": [
    {
     "data": {
      "text/plain": [
       "Code Description\n",
       "Miscellaneous Speed Control                                 4034\n",
       "Operator Overspeeding                                       1940\n",
       "Passenger Assistance Alarm Activated - No Trouble Found      742\n",
       "Injured or ill Customer (In Station) - Transported           432\n",
       "Operator Violated Signal                                     427\n",
       "Brakes                                                       417\n",
       "Disorderly Patron                                            317\n",
       "Miscellaneous Other                                          297\n",
       "Injured or ill Customer (On Train) - Medical Aid Refused     294\n",
       "Injured or ill Customer (On Train) - Transported             257\n",
       "dtype: int64"
      ]
     },
     "execution_count": 12,
     "metadata": {},
     "output_type": "execute_result"
    }
   ],
   "source": [
    "surface_delays = ttc[ttc['Station'].isin(surface['Station'])]\n",
    "surface_codes = surface_delays.groupby('Code Description').size().sort_values(ascending = False)\n",
    "surface_codes.head(10)"
   ]
  },
  {
   "cell_type": "code",
   "execution_count": null,
   "metadata": {},
   "outputs": [],
   "source": []
  },
  {
   "cell_type": "code",
   "execution_count": 13,
   "metadata": {},
   "outputs": [
    {
     "data": {
      "text/plain": [
       "Code Description\n",
       "Miscellaneous Speed Control                                 6881\n",
       "Operator Overspeeding                                       6826\n",
       "Miscellaneous General Delays                                3996\n",
       "Passenger Assistance Alarm Activated - No Trouble Found     3920\n",
       "Injured or ill Customer (In Station) - Transported          3282\n",
       "Miscellaneous Other                                         2156\n",
       "Disorderly Patron                                           2113\n",
       "Injured or ill Customer (On Train) - Medical Aid Refused    1928\n",
       "Injured or ill Customer (On Train) - Transported            1612\n",
       "Escalator/Elevator Incident                                 1305\n",
       "dtype: int64"
      ]
     },
     "execution_count": 13,
     "metadata": {},
     "output_type": "execute_result"
    }
   ],
   "source": [
    "underground_delays = ttc[ttc['Station'].isin(underground['Station'])]\n",
    "underground_codes = underground_delays.groupby('Code Description').size().sort_values(ascending = False)\n",
    "underground_codes.head(10)"
   ]
  },
  {
   "cell_type": "code",
   "execution_count": 14,
   "metadata": {},
   "outputs": [
    {
     "data": {
      "text/plain": [
       "Code Description\n",
       "Miscellaneous Speed Control                                 29.368084\n",
       "Operator Overspeeding                                       14.123471\n",
       "Passenger Assistance Alarm Activated - No Trouble Found      5.401864\n",
       "Injured or ill Customer (In Station) - Transported           3.145020\n",
       "Operator Violated Signal                                     3.108620\n",
       "Brakes                                                       3.035818\n",
       "Disorderly Patron                                            2.307804\n",
       "Miscellaneous Other                                          2.162202\n",
       "Injured or ill Customer (On Train) - Medical Aid Refused     2.140361\n",
       "Injured or ill Customer (On Train) - Transported             1.870996\n",
       "Door Problems - Faulty Equipment                             1.870996\n",
       "Signals - Train Stops                                        1.434188\n",
       "Signals Track Weather Related                                1.383227\n",
       "Escalator/Elevator Incident                                  1.375946\n",
       "Signals or Related Components Failure                        1.186663\n",
       "Misc. Transportation Other - Employee Non-Chargeable         1.099301\n",
       "Passenger Other                                              1.099301\n",
       "Fire/Smoke Plan B                                            1.084741\n",
       "Ice / Snow Related Problems                                  1.070181\n",
       "Operator Overshot Platform                                   1.070181\n",
       "Speed Control Equipment                                      0.982819\n",
       "Signal Problem - No Trouble                                  0.939138\n",
       "Insulated Joint Related Problem                              0.859056\n",
       "Unauthorized at Track Level                                  0.829936\n",
       "Signals - Track Circuit Problems                             0.771695\n",
       "dtype: float64"
      ]
     },
     "execution_count": 14,
     "metadata": {},
     "output_type": "execute_result"
    }
   ],
   "source": [
    "surface_codes_precent = surface_delays.groupby('Code Description').size().apply(lambda x: float(x) / surface_delays.groupby('Code Description').size().sum()*100)\n",
    "surface_codes_precent.sort_values(ascending=False).head(25)"
   ]
  },
  {
   "cell_type": "markdown",
   "metadata": {},
   "source": [
    "Interestingly looks like we have different types of issues at the surface more signal issues happen here as well as Ice / Snow Related Problems"
   ]
  },
  {
   "cell_type": "code",
   "execution_count": 15,
   "metadata": {},
   "outputs": [
    {
     "data": {
      "text/plain": [
       "Code Description\n",
       "Miscellaneous Speed Control                                   13.680736\n",
       "Operator Overspeeding                                         13.571386\n",
       "Miscellaneous General Delays                                   7.944808\n",
       "Passenger Assistance Alarm Activated - No Trouble Found        7.793705\n",
       "Injured or ill Customer (In Station) - Transported             6.525240\n",
       "Miscellaneous Other                                            4.286538\n",
       "Disorderly Patron                                              4.201046\n",
       "Injured or ill Customer (On Train) - Medical Aid Refused       3.833231\n",
       "Injured or ill Customer (On Train) - Transported               3.204963\n",
       "Escalator/Elevator Incident                                    2.594588\n",
       "Operator Violated Signal                                       2.250631\n",
       "Door Problems - Faulty Equipment                               1.763525\n",
       "Passenger Other                                                1.666103\n",
       "Injured or ill Customer (In Station) - Medical Aid Refused     1.413603\n",
       "Misc. Transportation Other - Employee Non-Chargeable           1.334076\n",
       "Station Stairway Incident                                      1.238642\n",
       "Brakes                                                         1.145198\n",
       "Door Problems - Debris Related                                 1.133268\n",
       "Fire/Smoke Plan B                                              1.077599\n",
       "Assault / Patron Involved                                      0.864863\n",
       "Unauthorized at Track Level                                    0.860886\n",
       "Operator Overshot Platform                                     0.839016\n",
       "Signals - Train Stops                                          0.755512\n",
       "Transportation Department - Other                              0.727678\n",
       "Collector Booth Alarm Activated                                0.705808\n",
       "dtype: float64"
      ]
     },
     "execution_count": 15,
     "metadata": {},
     "output_type": "execute_result"
    }
   ],
   "source": [
    "underground_codes_precent = underground_delays.groupby('Code Description').size().apply(lambda x: float(x) / underground_delays.groupby('Code Description').size().sum()*100)\n",
    "underground_codes_precent.sort_values(ascending=False).head(25)"
   ]
  },
  {
   "cell_type": "markdown",
   "metadata": {},
   "source": [
    "### End of the line codes"
   ]
  },
  {
   "cell_type": "code",
   "execution_count": 16,
   "metadata": {
    "collapsed": true
   },
   "outputs": [],
   "source": [
    "endline_stations = ['FINCH', 'SHEPPARD - SHP', 'DOWNSVIEW', 'KENNEDY - BD', 'KENNEDY - SRT', 'KIPLING', 'MCCOWAN', 'DON MILLS']"
   ]
  },
  {
   "cell_type": "code",
   "execution_count": 17,
   "metadata": {
    "collapsed": true
   },
   "outputs": [],
   "source": [
    "endline_delays = ttc[ttc['Station'].isin(endline_stations)]"
   ]
  },
  {
   "cell_type": "code",
   "execution_count": 18,
   "metadata": {},
   "outputs": [
    {
     "data": {
      "text/plain": [
       "Code Description\n",
       "Miscellaneous Speed Control                                3668\n",
       "Operator Overspeeding                                      1946\n",
       "Injured or ill Customer (In Station) - Transported          554\n",
       "Miscellaneous Other                                         527\n",
       "Brakes                                                      442\n",
       "Passenger Assistance Alarm Activated - No Trouble Found     436\n",
       "Operator Violated Signal                                    401\n",
       "Misc. Transportation Other - Employee Non-Chargeable        381\n",
       "Timeout                                                     359\n",
       "Escalator/Elevator Incident                                 307\n",
       "dtype: int64"
      ]
     },
     "execution_count": 18,
     "metadata": {},
     "output_type": "execute_result"
    }
   ],
   "source": [
    "endline_codes = endline_delays.groupby('Code Description').size().sort_values(ascending = False)\n",
    "endline_codes.head(10)"
   ]
  },
  {
   "cell_type": "code",
   "execution_count": 19,
   "metadata": {},
   "outputs": [
    {
     "data": {
      "text/plain": [
       "Code Description\n",
       "Miscellaneous Speed Control                                 7.292681\n",
       "Operator Overspeeding                                       3.869018\n",
       "Injured or ill Customer (In Station) - Transported          1.101457\n",
       "Miscellaneous Other                                         1.047776\n",
       "Brakes                                                      0.878780\n",
       "Passenger Assistance Alarm Activated - No Trouble Found     0.866851\n",
       "Operator Violated Signal                                    0.797264\n",
       "Misc. Transportation Other - Employee Non-Chargeable        0.757500\n",
       "Timeout                                                     0.713760\n",
       "Escalator/Elevator Incident                                 0.610374\n",
       "Injured or ill Customer (On Train) - Transported            0.610374\n",
       "Disorderly Patron                                           0.602422\n",
       "Injured or ill Customer (On Train) - Medical Aid Refused    0.542776\n",
       "Door Problems - Faulty Equipment                            0.532835\n",
       "Unsanitary Vehicle                                          0.469213\n",
       "No Operator Immediately Available - Not E.S.A. Related      0.373780\n",
       "Train Control - VOBC                                        0.353898\n",
       "Operator Not In Position                                    0.343957\n",
       "Passenger Other                                             0.337992\n",
       "Transportation Department - Other                           0.330040\n",
       "Speed Control Equipment                                     0.328051\n",
       "Propulsion System                                           0.312146\n",
       "No Operator Immediately Available                           0.288288\n",
       "Signals or Related Components Failure                       0.252500\n",
       "Equipment - No Trouble Found                                0.248524\n",
       "dtype: float64"
      ]
     },
     "execution_count": 19,
     "metadata": {},
     "output_type": "execute_result"
    }
   ],
   "source": [
    "endline_codes_precent = endline_delays.groupby('Code Description').size().apply(lambda x: float(x) / underground_delays.groupby('Code Description').size().sum()*100)\n",
    "endline_codes_precent.sort_values(ascending=False).head(25)"
   ]
  },
  {
   "cell_type": "code",
   "execution_count": 20,
   "metadata": {},
   "outputs": [
    {
     "ename": "SyntaxError",
     "evalue": "invalid syntax (<ipython-input-20-661760babde4>, line 1)",
     "output_type": "error",
     "traceback": [
      "\u001b[0;36m  File \u001b[0;32m\"<ipython-input-20-661760babde4>\"\u001b[0;36m, line \u001b[0;32m1\u001b[0m\n\u001b[0;31m    Looks like quite a few unique codes here -- 'Unsanitary Vehicle'\u001b[0m\n\u001b[0m             ^\u001b[0m\n\u001b[0;31mSyntaxError\u001b[0m\u001b[0;31m:\u001b[0m invalid syntax\n"
     ]
    }
   ],
   "source": [
    "Looks like quite a few unique codes here -- 'Unsanitary Vehicle' "
   ]
  },
  {
   "cell_type": "markdown",
   "metadata": {},
   "source": [
    "### Any stations with interesting codes -- does Davisville have more signal delays"
   ]
  },
  {
   "cell_type": "code",
   "execution_count": null,
   "metadata": {
    "collapsed": true
   },
   "outputs": [],
   "source": []
  },
  {
   "cell_type": "markdown",
   "metadata": {},
   "source": [
    "## Year to year"
   ]
  },
  {
   "cell_type": "code",
   "execution_count": 44,
   "metadata": {
    "collapsed": true
   },
   "outputs": [],
   "source": [
    "ttc['Year'] = ttc['Date'].dt.year\n",
    "codes_2014 = ttc[ttc['Date'].dt.year == 2014]\n",
    "codes_2015 = ttc[ttc['Date'].dt.year == 2015]\n",
    "codes_2016 = ttc[ttc['Date'].dt.year == 2016]\n",
    "codes_2017 = ttc[ttc['Date'].dt.year == 2017]"
   ]
  },
  {
   "cell_type": "code",
   "execution_count": 45,
   "metadata": {},
   "outputs": [
    {
     "ename": "SyntaxError",
     "evalue": "invalid syntax (<ipython-input-45-3b95fd1e829e>, line 1)",
     "output_type": "error",
     "traceback": [
      "\u001b[0;36m  File \u001b[0;32m\"<ipython-input-45-3b95fd1e829e>\"\u001b[0;36m, line \u001b[0;32m1\u001b[0m\n\u001b[0;31m    **TODO** Percentages here would be really useful\u001b[0m\n\u001b[0m     ^\u001b[0m\n\u001b[0;31mSyntaxError\u001b[0m\u001b[0;31m:\u001b[0m invalid syntax\n"
     ]
    }
   ],
   "source": [
    "**TODO** Percentages here would be really useful"
   ]
  },
  {
   "cell_type": "code",
   "execution_count": 46,
   "metadata": {},
   "outputs": [
    {
     "data": {
      "text/html": [
       "<div>\n",
       "<style>\n",
       "    .dataframe thead tr:only-child th {\n",
       "        text-align: right;\n",
       "    }\n",
       "\n",
       "    .dataframe thead th {\n",
       "        text-align: left;\n",
       "    }\n",
       "\n",
       "    .dataframe tbody tr th {\n",
       "        vertical-align: top;\n",
       "    }\n",
       "</style>\n",
       "<table border=\"1\" class=\"dataframe\">\n",
       "  <thead>\n",
       "    <tr style=\"text-align: right;\">\n",
       "      <th></th>\n",
       "      <th>2014</th>\n",
       "      <th>2015</th>\n",
       "      <th>2016</th>\n",
       "      <th>2017</th>\n",
       "    </tr>\n",
       "  </thead>\n",
       "  <tbody>\n",
       "    <tr>\n",
       "      <th>Assault / Patron Involved</th>\n",
       "      <td>NaN</td>\n",
       "      <td>NaN</td>\n",
       "      <td>NaN</td>\n",
       "      <td>1.046926</td>\n",
       "    </tr>\n",
       "    <tr>\n",
       "      <th>Brakes</th>\n",
       "      <td>1.160737</td>\n",
       "      <td>2.051282</td>\n",
       "      <td>1.315280</td>\n",
       "      <td>1.195426</td>\n",
       "    </tr>\n",
       "    <tr>\n",
       "      <th>Disorderly Patron</th>\n",
       "      <td>3.391370</td>\n",
       "      <td>2.967711</td>\n",
       "      <td>3.868472</td>\n",
       "      <td>4.336204</td>\n",
       "    </tr>\n",
       "    <tr>\n",
       "      <th>Door Problems - Debris Related</th>\n",
       "      <td>1.054756</td>\n",
       "      <td>0.868946</td>\n",
       "      <td>0.831721</td>\n",
       "      <td>1.232551</td>\n",
       "    </tr>\n",
       "    <tr>\n",
       "      <th>Door Problems - Faulty Equipment</th>\n",
       "      <td>2.311380</td>\n",
       "      <td>2.046534</td>\n",
       "      <td>1.697292</td>\n",
       "      <td>1.544402</td>\n",
       "    </tr>\n",
       "    <tr>\n",
       "      <th>Escalator/Elevator Incident</th>\n",
       "      <td>2.018673</td>\n",
       "      <td>2.407407</td>\n",
       "      <td>2.214700</td>\n",
       "      <td>2.643303</td>\n",
       "    </tr>\n",
       "    <tr>\n",
       "      <th>Fire/Smoke Plan B</th>\n",
       "      <td>1.332324</td>\n",
       "      <td>1.044634</td>\n",
       "      <td>0.986460</td>\n",
       "      <td>NaN</td>\n",
       "    </tr>\n",
       "    <tr>\n",
       "      <th>Injured or ill Customer (In Station) - Medical Aid Refused</th>\n",
       "      <td>NaN</td>\n",
       "      <td>1.082621</td>\n",
       "      <td>1.455513</td>\n",
       "      <td>1.700327</td>\n",
       "    </tr>\n",
       "    <tr>\n",
       "      <th>Injured or ill Customer (In Station) - Transported</th>\n",
       "      <td>2.614181</td>\n",
       "      <td>5.503324</td>\n",
       "      <td>6.484526</td>\n",
       "      <td>7.447282</td>\n",
       "    </tr>\n",
       "    <tr>\n",
       "      <th>Injured or ill Customer (On Train) - Medical Aid Refused</th>\n",
       "      <td>3.613424</td>\n",
       "      <td>2.654321</td>\n",
       "      <td>3.220503</td>\n",
       "      <td>3.474903</td>\n",
       "    </tr>\n",
       "    <tr>\n",
       "      <th>Injured or ill Customer (On Train) - Transported</th>\n",
       "      <td>4.552107</td>\n",
       "      <td>1.913580</td>\n",
       "      <td>2.359768</td>\n",
       "      <td>2.227502</td>\n",
       "    </tr>\n",
       "    <tr>\n",
       "      <th>Misc. Transportation Other - Employee Non-Chargeable</th>\n",
       "      <td>1.549331</td>\n",
       "      <td>0.987654</td>\n",
       "      <td>1.286267</td>\n",
       "      <td>NaN</td>\n",
       "    </tr>\n",
       "    <tr>\n",
       "      <th>Miscellaneous General Delays</th>\n",
       "      <td>7.231895</td>\n",
       "      <td>5.740741</td>\n",
       "      <td>4.526112</td>\n",
       "      <td>3.831304</td>\n",
       "    </tr>\n",
       "    <tr>\n",
       "      <th>Miscellaneous Other</th>\n",
       "      <td>4.945748</td>\n",
       "      <td>5.028490</td>\n",
       "      <td>4.414894</td>\n",
       "      <td>4.328779</td>\n",
       "    </tr>\n",
       "    <tr>\n",
       "      <th>Miscellaneous Speed Control</th>\n",
       "      <td>13.252586</td>\n",
       "      <td>20.014245</td>\n",
       "      <td>21.349130</td>\n",
       "      <td>18.451143</td>\n",
       "    </tr>\n",
       "    <tr>\n",
       "      <th>Operator Overshot Platform</th>\n",
       "      <td>1.049710</td>\n",
       "      <td>0.954416</td>\n",
       "      <td>NaN</td>\n",
       "      <td>NaN</td>\n",
       "    </tr>\n",
       "    <tr>\n",
       "      <th>Operator Overspeeding</th>\n",
       "      <td>15.069392</td>\n",
       "      <td>15.413105</td>\n",
       "      <td>12.325919</td>\n",
       "      <td>10.476685</td>\n",
       "    </tr>\n",
       "    <tr>\n",
       "      <th>Operator Violated Signal</th>\n",
       "      <td>2.276053</td>\n",
       "      <td>2.250712</td>\n",
       "      <td>2.345261</td>\n",
       "      <td>2.643303</td>\n",
       "    </tr>\n",
       "    <tr>\n",
       "      <th>Passenger Assistance Alarm Activated - No Trouble Found</th>\n",
       "      <td>7.115821</td>\n",
       "      <td>6.244065</td>\n",
       "      <td>6.150870</td>\n",
       "      <td>7.024057</td>\n",
       "    </tr>\n",
       "    <tr>\n",
       "      <th>Passenger Other</th>\n",
       "      <td>1.503911</td>\n",
       "      <td>1.514720</td>\n",
       "      <td>1.450677</td>\n",
       "      <td>1.544402</td>\n",
       "    </tr>\n",
       "    <tr>\n",
       "      <th>Signals - Train Stops</th>\n",
       "      <td>1.024476</td>\n",
       "      <td>NaN</td>\n",
       "      <td>0.870406</td>\n",
       "      <td>NaN</td>\n",
       "    </tr>\n",
       "    <tr>\n",
       "      <th>Signals or Related Components Failure</th>\n",
       "      <td>1.014383</td>\n",
       "      <td>NaN</td>\n",
       "      <td>NaN</td>\n",
       "      <td>NaN</td>\n",
       "    </tr>\n",
       "    <tr>\n",
       "      <th>Speed Control Equipment</th>\n",
       "      <td>NaN</td>\n",
       "      <td>NaN</td>\n",
       "      <td>NaN</td>\n",
       "      <td>1.032076</td>\n",
       "    </tr>\n",
       "    <tr>\n",
       "      <th>Station Stairway Incident</th>\n",
       "      <td>NaN</td>\n",
       "      <td>0.911681</td>\n",
       "      <td>1.078337</td>\n",
       "      <td>NaN</td>\n",
       "    </tr>\n",
       "    <tr>\n",
       "      <th>Timeout</th>\n",
       "      <td>NaN</td>\n",
       "      <td>NaN</td>\n",
       "      <td>NaN</td>\n",
       "      <td>1.128601</td>\n",
       "    </tr>\n",
       "    <tr>\n",
       "      <th>Unauthorized at Track Level</th>\n",
       "      <td>NaN</td>\n",
       "      <td>NaN</td>\n",
       "      <td>NaN</td>\n",
       "      <td>1.106326</td>\n",
       "    </tr>\n",
       "  </tbody>\n",
       "</table>\n",
       "</div>"
      ],
      "text/plain": [
       "                                                         2014       2015  \\\n",
       "Assault / Patron Involved                                 NaN        NaN   \n",
       "Brakes                                               1.160737   2.051282   \n",
       "Disorderly Patron                                    3.391370   2.967711   \n",
       "Door Problems - Debris Related                       1.054756   0.868946   \n",
       "Door Problems - Faulty Equipment                     2.311380   2.046534   \n",
       "Escalator/Elevator Incident                          2.018673   2.407407   \n",
       "Fire/Smoke Plan B                                    1.332324   1.044634   \n",
       "Injured or ill Customer (In Station) - Medical ...        NaN   1.082621   \n",
       "Injured or ill Customer (In Station) - Transported   2.614181   5.503324   \n",
       "Injured or ill Customer (On Train) - Medical Ai...   3.613424   2.654321   \n",
       "Injured or ill Customer (On Train) - Transported     4.552107   1.913580   \n",
       "Misc. Transportation Other - Employee Non-Charg...   1.549331   0.987654   \n",
       "Miscellaneous General Delays                         7.231895   5.740741   \n",
       "Miscellaneous Other                                  4.945748   5.028490   \n",
       "Miscellaneous Speed Control                         13.252586  20.014245   \n",
       "Operator Overshot Platform                           1.049710   0.954416   \n",
       "Operator Overspeeding                               15.069392  15.413105   \n",
       "Operator Violated Signal                             2.276053   2.250712   \n",
       "Passenger Assistance Alarm Activated - No Troub...   7.115821   6.244065   \n",
       "Passenger Other                                      1.503911   1.514720   \n",
       "Signals - Train Stops                                1.024476        NaN   \n",
       "Signals or Related Components Failure                1.014383        NaN   \n",
       "Speed Control Equipment                                   NaN        NaN   \n",
       "Station Stairway Incident                                 NaN   0.911681   \n",
       "Timeout                                                   NaN        NaN   \n",
       "Unauthorized at Track Level                               NaN        NaN   \n",
       "\n",
       "                                                         2016       2017  \n",
       "Assault / Patron Involved                                 NaN   1.046926  \n",
       "Brakes                                               1.315280   1.195426  \n",
       "Disorderly Patron                                    3.868472   4.336204  \n",
       "Door Problems - Debris Related                       0.831721   1.232551  \n",
       "Door Problems - Faulty Equipment                     1.697292   1.544402  \n",
       "Escalator/Elevator Incident                          2.214700   2.643303  \n",
       "Fire/Smoke Plan B                                    0.986460        NaN  \n",
       "Injured or ill Customer (In Station) - Medical ...   1.455513   1.700327  \n",
       "Injured or ill Customer (In Station) - Transported   6.484526   7.447282  \n",
       "Injured or ill Customer (On Train) - Medical Ai...   3.220503   3.474903  \n",
       "Injured or ill Customer (On Train) - Transported     2.359768   2.227502  \n",
       "Misc. Transportation Other - Employee Non-Charg...   1.286267        NaN  \n",
       "Miscellaneous General Delays                         4.526112   3.831304  \n",
       "Miscellaneous Other                                  4.414894   4.328779  \n",
       "Miscellaneous Speed Control                         21.349130  18.451143  \n",
       "Operator Overshot Platform                                NaN        NaN  \n",
       "Operator Overspeeding                               12.325919  10.476685  \n",
       "Operator Violated Signal                             2.345261   2.643303  \n",
       "Passenger Assistance Alarm Activated - No Troub...   6.150870   7.024057  \n",
       "Passenger Other                                      1.450677   1.544402  \n",
       "Signals - Train Stops                                0.870406        NaN  \n",
       "Signals or Related Components Failure                     NaN        NaN  \n",
       "Speed Control Equipment                                   NaN   1.032076  \n",
       "Station Stairway Incident                            1.078337        NaN  \n",
       "Timeout                                                   NaN   1.128601  \n",
       "Unauthorized at Track Level                               NaN   1.106326  "
      ]
     },
     "execution_count": 46,
     "metadata": {},
     "output_type": "execute_result"
    }
   ],
   "source": [
    "groups = ttc.groupby(['Year'], as_index=False)\n",
    "final = {}\n",
    "\n",
    "\n",
    "for title, g in groups:\n",
    "    final[title] = g.groupby('Code Description').size() \\\n",
    "        .apply(lambda x: float(x) / g.groupby('Code Description').size().sum() * 100) \\\n",
    "        .sort_values(ascending=False).head(20)\n",
    "\n",
    "# with_apply = ttc.groupby(['Line'], as_index=False).apply(lambda g: g.groupby('Code Description').size().sort_values(ascending=False).head(3))\n",
    "final_df = pd.DataFrame(final)\n",
    "final_df"
   ]
  },
  {
   "cell_type": "markdown",
   "metadata": {},
   "source": [
    "Fire/Smoke Plan B goes down\n",
    "\n",
    "\n",
    "Injured or ill Customer (In Station) - Medical Aid Refused / Injured or ill Customer (In Station) - Medical Aid Refused go up BUT\n",
    "\n",
    "Injured or ill Customer (On Train) - Medical Aid Refused/Injured or ill Customer (On Train) - Transported go down\n",
    "\n",
    "Operator Overshot Platform go down"
   ]
  },
  {
   "cell_type": "code",
   "execution_count": null,
   "metadata": {
    "collapsed": true
   },
   "outputs": [],
   "source": []
  },
  {
   "cell_type": "markdown",
   "metadata": {},
   "source": [
    "### Delays and Codes"
   ]
  },
  {
   "cell_type": "markdown",
   "metadata": {},
   "source": [
    "Which codes have the longest average delays and cause the longest delays"
   ]
  },
  {
   "cell_type": "code",
   "execution_count": 24,
   "metadata": {},
   "outputs": [
    {
     "data": {
      "text/plain": [
       "Code Description\n",
       "High Voltage                                         121.117647\n",
       "Force Majeure                                         88.833333\n",
       "Priority One - Train in Contact With Person           65.106383\n",
       "Fire/Smoke Plan A                                     47.588235\n",
       "Structure Related Problem                             42.454545\n",
       "Traction Power Rail Related                           39.400000\n",
       "Rail Defect/Fastenings/Power Rail                     36.258065\n",
       "Vehicle                                               29.500000\n",
       "Bomb Threat                                           23.051282\n",
       "Traction Power or Related Components Failure          20.800000\n",
       "Rail Related Problem                                  17.837838\n",
       "Switch Related                                        16.200000\n",
       "Fire/Smoke Plan B                                     14.194087\n",
       "Other                                                 13.032787\n",
       "Doors Open in Error                                   12.619048\n",
       "Weather Reports / Related Delays                      11.702703\n",
       "Misc. Engineering & Construction Related Problems     11.500000\n",
       "Track Switch Failure - Track Related Problem          11.400000\n",
       "Axle Counter Related                                  11.250000\n",
       "Work Zone Problems - Track                             9.209677\n",
       "Disc Brakes                                            9.100000\n",
       "Unauthorized at Track Level                            8.762458\n",
       "Emergency Alarm Station Activation                     8.475904\n",
       "Track Brakes                                           8.166667\n",
       "Work Vehicle                                           8.153846\n",
       "Name: Min Delay, dtype: float64"
      ]
     },
     "execution_count": 24,
     "metadata": {},
     "output_type": "execute_result"
    }
   ],
   "source": [
    "ttc.groupby('Code Description')['Min Delay'].mean().sort_values(ascending=False)[:25]"
   ]
  },
  {
   "cell_type": "code",
   "execution_count": 41,
   "metadata": {},
   "outputs": [
    {
     "data": {
      "text/plain": [
       "Code Description\n",
       "Fire/Smoke Plan B                                           11043\n",
       "Injured or ill Customer (On Train) - Transported            10928\n",
       "Disorderly Patron                                            8792\n",
       "Injured or ill Customer (On Train) - Medical Aid Refused     7656\n",
       "Door Problems - Faulty Equipment                             6189\n",
       "Priority One - Train in Contact With Person                  6120\n",
       "Unauthorized at Track Level                                  5275\n",
       "Passenger Other                                              4008\n",
       "Miscellaneous Other                                          3653\n",
       "Passenger Assistance Alarm Activated - No Trouble Found      3340\n",
       "Door Problems - Debris Related                               2887\n",
       "Miscellaneous Speed Control                                  2853\n",
       "Brakes                                                       2550\n",
       "Misc. Transportation Other - Employee Non-Chargeable         2505\n",
       "Equipment - No Trouble Found                                 2140\n",
       "Assault / Patron Involved                                    2097\n",
       "High Voltage                                                 2059\n",
       "Operator Violated Signal                                     1996\n",
       "Timeout                                                      1899\n",
       "Transportation Department - Other                            1884\n",
       "Weather Reports / Related Delays                             1732\n",
       "Train Control - VOBC                                         1681\n",
       "Signals or Related Components Failure                        1652\n",
       "Propulsion System                                            1640\n",
       "Unsanitary Vehicle                                           1614\n",
       "Name: Min Delay, dtype: int64"
      ]
     },
     "execution_count": 41,
     "metadata": {},
     "output_type": "execute_result"
    }
   ],
   "source": [
    "ttc.groupby('Code Description')['Min Delay'].sum().sort_values(ascending=False)[:25]"
   ]
  },
  {
   "cell_type": "code",
   "execution_count": 42,
   "metadata": {},
   "outputs": [
    {
     "data": {
      "text/plain": [
       "Line\n",
       "Bloor-Danforth      445\n",
       "Scarborough RT       18\n",
       "Sheppard             39\n",
       "Yonge-University    275\n",
       "dtype: int64"
      ]
     },
     "execution_count": 42,
     "metadata": {},
     "output_type": "execute_result"
    }
   ],
   "source": [
    "ttc[ttc['Code Description'] == 'High Voltage'].groupby('Line').size()\n",
    "ttc[ttc['Code Description'] == 'Fire/Smoke Plan B'].groupby('Line').size()\n",
    "# ttc[ttc['Code Description'] == 'High Voltage'].groupby('Line').size()"
   ]
  },
  {
   "cell_type": "code",
   "execution_count": null,
   "metadata": {
    "collapsed": true
   },
   "outputs": [],
   "source": []
  }
 ],
 "metadata": {
  "kernelspec": {
   "display_name": "Python 3",
   "language": "python",
   "name": "python3"
  },
  "language_info": {
   "codemirror_mode": {
    "name": "ipython",
    "version": 3
   },
   "file_extension": ".py",
   "mimetype": "text/x-python",
   "name": "python",
   "nbconvert_exporter": "python",
   "pygments_lexer": "ipython3",
   "version": "3.6.1"
  },
  "varInspector": {
   "cols": {
    "lenName": 16,
    "lenType": 16,
    "lenVar": 40
   },
   "kernels_config": {
    "python": {
     "delete_cmd_postfix": "",
     "delete_cmd_prefix": "del ",
     "library": "var_list.py",
     "varRefreshCmd": "print(var_dic_list())"
    },
    "r": {
     "delete_cmd_postfix": ") ",
     "delete_cmd_prefix": "rm(",
     "library": "var_list.r",
     "varRefreshCmd": "cat(var_dic_list()) "
    }
   },
   "types_to_exclude": [
    "module",
    "function",
    "builtin_function_or_method",
    "instance",
    "_Feature"
   ],
   "window_display": false
  }
 },
 "nbformat": 4,
 "nbformat_minor": 2
}
