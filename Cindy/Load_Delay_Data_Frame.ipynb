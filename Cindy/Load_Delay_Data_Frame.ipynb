{
 "cells": [
  {
   "cell_type": "markdown",
   "metadata": {},
   "source": [
    "## Load in the ttc data and do some common alterations"
   ]
  },
  {
   "cell_type": "code",
   "execution_count": 1,
   "metadata": {
    "collapsed": true
   },
   "outputs": [],
   "source": [
    "import pandas as pd"
   ]
  },
  {
   "cell_type": "code",
   "execution_count": 2,
   "metadata": {
    "collapsed": true
   },
   "outputs": [],
   "source": [
    "ttc = pd.read_csv('../ttc_delays_cleaned.csv')"
   ]
  },
  {
   "cell_type": "code",
   "execution_count": 3,
   "metadata": {
    "collapsed": true
   },
   "outputs": [],
   "source": [
    "ttc['Hour'] = pd.to_datetime(ttc['Time'], format='%H:%M').dt.hour\n",
    "ttc['Date'] = pd.to_datetime(ttc['Date'])\n",
    "ttc['Year'] = ttc['Date'].dt.year"
   ]
  },
  {
   "cell_type": "code",
   "execution_count": 4,
   "metadata": {
    "collapsed": true
   },
   "outputs": [],
   "source": [
    "# Convert Day to Categorical so it's sorted Monday --> Sunday instead of alphabetically\n",
    "ttc['Day'] = pd.Categorical(ttc['Day'], categories=['Monday','Tuesday','Wednesday','Thursday','Friday','Saturday', 'Sunday'], ordered=True)"
   ]
  },
  {
   "cell_type": "code",
   "execution_count": 5,
   "metadata": {},
   "outputs": [
    {
     "data": {
      "text/html": [
       "<div>\n",
       "<style>\n",
       "    .dataframe thead tr:only-child th {\n",
       "        text-align: right;\n",
       "    }\n",
       "\n",
       "    .dataframe thead th {\n",
       "        text-align: left;\n",
       "    }\n",
       "\n",
       "    .dataframe tbody tr th {\n",
       "        vertical-align: top;\n",
       "    }\n",
       "</style>\n",
       "<table border=\"1\" class=\"dataframe\">\n",
       "  <thead>\n",
       "    <tr style=\"text-align: right;\">\n",
       "      <th></th>\n",
       "      <th>Date</th>\n",
       "      <th>Time</th>\n",
       "      <th>Day</th>\n",
       "      <th>Station</th>\n",
       "      <th>Code</th>\n",
       "      <th>Min Delay</th>\n",
       "      <th>Min Gap</th>\n",
       "      <th>Bound</th>\n",
       "      <th>Line</th>\n",
       "      <th>Vehicle</th>\n",
       "      <th>Station_original</th>\n",
       "      <th>Line_ori</th>\n",
       "      <th>Code Description</th>\n",
       "      <th>Hour</th>\n",
       "    </tr>\n",
       "  </thead>\n",
       "  <tbody>\n",
       "    <tr>\n",
       "      <th>0</th>\n",
       "      <td>1/1/2014</td>\n",
       "      <td>02:06</td>\n",
       "      <td>Wednesday</td>\n",
       "      <td>HIGH PARK</td>\n",
       "      <td>SUDP</td>\n",
       "      <td>3</td>\n",
       "      <td>7</td>\n",
       "      <td>West</td>\n",
       "      <td>Bloor-Danforth</td>\n",
       "      <td>5001.0</td>\n",
       "      <td>HIGH PARK STATION</td>\n",
       "      <td>BD</td>\n",
       "      <td>Disorderly Patron</td>\n",
       "      <td>2</td>\n",
       "    </tr>\n",
       "    <tr>\n",
       "      <th>1</th>\n",
       "      <td>1/1/2014</td>\n",
       "      <td>02:40</td>\n",
       "      <td>Wednesday</td>\n",
       "      <td>SHEPPARD - YU</td>\n",
       "      <td>MUNCA</td>\n",
       "      <td>0</td>\n",
       "      <td>0</td>\n",
       "      <td>NaN</td>\n",
       "      <td>Yonge-University</td>\n",
       "      <td>NaN</td>\n",
       "      <td>SHEPPARD STATION</td>\n",
       "      <td>YU</td>\n",
       "      <td>NaN</td>\n",
       "      <td>2</td>\n",
       "    </tr>\n",
       "    <tr>\n",
       "      <th>2</th>\n",
       "      <td>1/1/2014</td>\n",
       "      <td>03:10</td>\n",
       "      <td>Wednesday</td>\n",
       "      <td>LANSDOWNE</td>\n",
       "      <td>SUDP</td>\n",
       "      <td>3</td>\n",
       "      <td>8</td>\n",
       "      <td>West</td>\n",
       "      <td>Bloor-Danforth</td>\n",
       "      <td>5116.0</td>\n",
       "      <td>LANSDOWNE STATION</td>\n",
       "      <td>BD</td>\n",
       "      <td>Disorderly Patron</td>\n",
       "      <td>3</td>\n",
       "    </tr>\n",
       "    <tr>\n",
       "      <th>3</th>\n",
       "      <td>1/1/2014</td>\n",
       "      <td>03:20</td>\n",
       "      <td>Wednesday</td>\n",
       "      <td>BLOOR-YONGE - YU</td>\n",
       "      <td>MUSAN</td>\n",
       "      <td>5</td>\n",
       "      <td>10</td>\n",
       "      <td>South</td>\n",
       "      <td>Yonge-University</td>\n",
       "      <td>5386.0</td>\n",
       "      <td>BLOOR STATION</td>\n",
       "      <td>YU</td>\n",
       "      <td>Unsanitary Vehicle</td>\n",
       "      <td>3</td>\n",
       "    </tr>\n",
       "    <tr>\n",
       "      <th>4</th>\n",
       "      <td>1/1/2014</td>\n",
       "      <td>03:29</td>\n",
       "      <td>Wednesday</td>\n",
       "      <td>DUFFERIN</td>\n",
       "      <td>MUPAA</td>\n",
       "      <td>0</td>\n",
       "      <td>0</td>\n",
       "      <td>East</td>\n",
       "      <td>Bloor-Danforth</td>\n",
       "      <td>5174.0</td>\n",
       "      <td>DUFFERIN STATION</td>\n",
       "      <td>BD</td>\n",
       "      <td>Passenger Assistance Alarm Activated - No Trou...</td>\n",
       "      <td>3</td>\n",
       "    </tr>\n",
       "  </tbody>\n",
       "</table>\n",
       "</div>"
      ],
      "text/plain": [
       "       Date   Time        Day           Station   Code  Min Delay  Min Gap  \\\n",
       "0  1/1/2014  02:06  Wednesday         HIGH PARK   SUDP          3        7   \n",
       "1  1/1/2014  02:40  Wednesday     SHEPPARD - YU  MUNCA          0        0   \n",
       "2  1/1/2014  03:10  Wednesday         LANSDOWNE   SUDP          3        8   \n",
       "3  1/1/2014  03:20  Wednesday  BLOOR-YONGE - YU  MUSAN          5       10   \n",
       "4  1/1/2014  03:29  Wednesday          DUFFERIN  MUPAA          0        0   \n",
       "\n",
       "   Bound              Line  Vehicle   Station_original Line_ori  \\\n",
       "0   West    Bloor-Danforth   5001.0  HIGH PARK STATION       BD   \n",
       "1    NaN  Yonge-University      NaN   SHEPPARD STATION       YU   \n",
       "2   West    Bloor-Danforth   5116.0  LANSDOWNE STATION       BD   \n",
       "3  South  Yonge-University   5386.0      BLOOR STATION       YU   \n",
       "4   East    Bloor-Danforth   5174.0   DUFFERIN STATION       BD   \n",
       "\n",
       "                                    Code Description  Hour  \n",
       "0                                  Disorderly Patron     2  \n",
       "1                                                NaN     2  \n",
       "2                                  Disorderly Patron     3  \n",
       "3                                 Unsanitary Vehicle     3  \n",
       "4  Passenger Assistance Alarm Activated - No Trou...     3  "
      ]
     },
     "execution_count": 5,
     "metadata": {},
     "output_type": "execute_result"
    }
   ],
   "source": [
    "ttc.head()"
   ]
  },
  {
   "cell_type": "code",
   "execution_count": null,
   "metadata": {
    "collapsed": true
   },
   "outputs": [],
   "source": []
  }
 ],
 "metadata": {
  "kernelspec": {
   "display_name": "Python 3",
   "language": "python",
   "name": "python3"
  },
  "language_info": {
   "codemirror_mode": {
    "name": "ipython",
    "version": 3
   },
   "file_extension": ".py",
   "mimetype": "text/x-python",
   "name": "python",
   "nbconvert_exporter": "python",
   "pygments_lexer": "ipython3",
   "version": "3.6.1"
  },
  "varInspector": {
   "cols": {
    "lenName": 16,
    "lenType": 16,
    "lenVar": 40
   },
   "kernels_config": {
    "python": {
     "delete_cmd_postfix": "",
     "delete_cmd_prefix": "del ",
     "library": "var_list.py",
     "varRefreshCmd": "print(var_dic_list())"
    },
    "r": {
     "delete_cmd_postfix": ") ",
     "delete_cmd_prefix": "rm(",
     "library": "var_list.r",
     "varRefreshCmd": "cat(var_dic_list()) "
    }
   },
   "types_to_exclude": [
    "module",
    "function",
    "builtin_function_or_method",
    "instance",
    "_Feature"
   ],
   "window_display": false
  }
 },
 "nbformat": 4,
 "nbformat_minor": 2
}
