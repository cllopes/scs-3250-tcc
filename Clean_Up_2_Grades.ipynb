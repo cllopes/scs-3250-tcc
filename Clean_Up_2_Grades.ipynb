{
 "cells": [
  {
   "cell_type": "markdown",
   "metadata": {},
   "source": [
    "Station grade original data source: https://www.ttc.ca/PDF/Transit_Planning/Subway%20ridership%202015.pdf"
   ]
  },
  {
   "cell_type": "code",
   "execution_count": 1,
   "metadata": {
    "collapsed": true
   },
   "outputs": [],
   "source": [
    "import pandas as pd\n",
    "import numpy as np"
   ]
  },
  {
   "cell_type": "code",
   "execution_count": 2,
   "metadata": {
    "collapsed": true
   },
   "outputs": [],
   "source": [
    "ttc = pd.read_csv('ttc_delays_cleaned.csv')"
   ]
  },
  {
   "cell_type": "code",
   "execution_count": 3,
   "metadata": {},
   "outputs": [
    {
     "data": {
      "text/plain": [
       "0        HIGH PARK\n",
       "1    SHEPPARD - YU\n",
       "Name: Station, dtype: object"
      ]
     },
     "execution_count": 3,
     "metadata": {},
     "output_type": "execute_result"
    }
   ],
   "source": [
    "ttc_stations = ttc['Station']\n",
    "ttc_stations.head(2)"
   ]
  },
  {
   "cell_type": "code",
   "execution_count": 4,
   "metadata": {},
   "outputs": [
    {
     "data": {
      "text/html": [
       "<div>\n",
       "<style>\n",
       "    .dataframe thead tr:only-child th {\n",
       "        text-align: right;\n",
       "    }\n",
       "\n",
       "    .dataframe thead th {\n",
       "        text-align: left;\n",
       "    }\n",
       "\n",
       "    .dataframe tbody tr th {\n",
       "        vertical-align: top;\n",
       "    }\n",
       "</style>\n",
       "<table border=\"1\" class=\"dataframe\">\n",
       "  <thead>\n",
       "    <tr style=\"text-align: right;\">\n",
       "      <th></th>\n",
       "      <th>Station</th>\n",
       "      <th>Grade</th>\n",
       "      <th>2015 ridership</th>\n",
       "    </tr>\n",
       "  </thead>\n",
       "  <tbody>\n",
       "    <tr>\n",
       "      <th>0</th>\n",
       "      <td>COLLEGE</td>\n",
       "      <td>Underground</td>\n",
       "      <td>47,79</td>\n",
       "    </tr>\n",
       "    <tr>\n",
       "      <th>1</th>\n",
       "      <td>DAVISVILLE</td>\n",
       "      <td>Surface</td>\n",
       "      <td>25,33</td>\n",
       "    </tr>\n",
       "  </tbody>\n",
       "</table>\n",
       "</div>"
      ],
      "text/plain": [
       "      Station        Grade 2015 ridership\n",
       "0     COLLEGE  Underground          47,79\n",
       "1  DAVISVILLE      Surface          25,33"
      ]
     },
     "execution_count": 4,
     "metadata": {},
     "output_type": "execute_result"
    }
   ],
   "source": [
    "stations = pd.read_csv('csv_originals/station_ridership_grade.csv')\n",
    "stations['Station'] = stations['Station'].str.upper()\n",
    "stations.head(2)"
   ]
  },
  {
   "cell_type": "code",
   "execution_count": 5,
   "metadata": {},
   "outputs": [
    {
     "data": {
      "text/plain": [
       "Index(['COLLEGE', 'DAVISVILLE', 'DUNDAS', 'DUPONT', 'EGLINTON',\n",
       "       'EGLINTON WEST', 'FINCH', 'GLENCAIRN', 'KING', 'LAWRENCE',\n",
       "       'LAWRENCE WEST', 'MUSEUM', 'NORTH YORK CENTRE', 'OSGOODE', 'QUEEN',\n",
       "       'QUEEN'S PARK', 'ROSEDALE', 'SHEPPARD WEST', 'ST. ANDREW', 'ST. CLAIR',\n",
       "       'ST. CLAIR WEST', 'ST. PATRICK', 'SUMMERHILL', 'UNION', 'WELLESLEY',\n",
       "       'WILSON', 'YORK MILLS', 'YORKDALE', 'BLOOR-YONGE - BD',\n",
       "       'BLOOR-YONGE - YU', 'SPADINA - YU', 'SPADINA - BD', 'ST. GEORGE - YU',\n",
       "       'ST. GEORGE - BD', 'SHEPPARD - SHP', 'SHEPPARD - YU', 'BATHURST', 'BAY',\n",
       "       'BROADVIEW', 'CASTLE FRANK', 'CHESTER', 'CHRISTIE', 'COXWELL',\n",
       "       'DONLANDS', 'DUFFERIN', 'DUNDAS WEST', 'GREENWOOD', 'HIGH PARK',\n",
       "       'ISLINGTON', 'JANE', 'KEELE', 'KIPLING', 'LANSDOWNE', 'MAIN STREET',\n",
       "       'OLD MILL', 'OSSINGTON', 'PAPE', 'ROYAL YORK', 'RUNNYMEDE',\n",
       "       'SHERBOURNE', 'VICTORIA PARK', 'WARDEN', 'WOODBINE', 'KENNEDY - SRT',\n",
       "       'KENNEDY - BD', 'ELLESMERE', 'LAWRENCE EAST', 'MCCOWAN', 'MIDLAND',\n",
       "       'SCARBOROUGH CENTRE', 'BAYVIEW', 'BESSARION', 'DON MILLS', 'LESLIE'],\n",
       "      dtype='object', name='Station')"
      ]
     },
     "execution_count": 5,
     "metadata": {},
     "output_type": "execute_result"
    }
   ],
   "source": [
    "station_index = stations.set_index('Station')\n",
    "station_index.index"
   ]
  },
  {
   "cell_type": "code",
   "execution_count": 6,
   "metadata": {},
   "outputs": [
    {
     "data": {
      "text/plain": [
       "Index([         'HIGH PARK',      'SHEPPARD - YU',          'LANSDOWNE',\n",
       "         'BLOOR-YONGE - YU',           'DUFFERIN',  'NORTH YORK CENTRE',\n",
       "                'RUNNYMEDE',              'QUEEN',         'ST. ANDREW',\n",
       "                'WELLESLEY',            'KIPLING',        'ST. PATRICK',\n",
       "             'KENNEDY - BD',               'JANE',           'OLD MILL',\n",
       "                   'WILSON',          'DOWNSVIEW',                'BAY',\n",
       "                    'FINCH',            'COXWELL',     'ST. CLAIR WEST',\n",
       "                   'DUPONT',         'YORK MILLS',        'DUNDAS WEST',\n",
       "                  'OSGOODE',            'COLLEGE',   'BLOOR-YONGE - BD',\n",
       "            'VICTORIA PARK',    'ST. GEORGE - YU',     'SHEPPARD - SHP',\n",
       "                'BROADVIEW',           'EGLINTON',           'ROSEDALE',\n",
       "                     'PAPE',          'GREENWOOD',          'ISLINGTON',\n",
       "                   'WARDEN',         'DAVISVILLE',           'LAWRENCE',\n",
       "            'EGLINTON WEST',              'BLOOR',              'KEELE',\n",
       "                    'UNION',            'CHESTER',          'GLENCAIRN',\n",
       "                 'YORKDALE',             'MUSEUM',      'LAWRENCE EAST',\n",
       "            'KENNEDY - SRT',            'MCCOWAN',            'MIDLAND',\n",
       "                'ELLESMERE',             'DUNDAS',         'SHERBOURNE',\n",
       "                     'KING',           'BATHURST',      'LAWRENCE WEST',\n",
       "                 'DONLANDS',             'LESLIE',            'BAYVIEW',\n",
       "             'QUEEN'S PARK',       'SPADINA - YU',         'SUMMERHILL',\n",
       "                'DON MILLS',               'MAIN',          'OSSINGTON',\n",
       "               'ROYAL YORK',       'CASTLE FRANK',         'ST. GEORGE',\n",
       "                 'CHRISTIE',           'WOODBINE',          'ST. CLAIR',\n",
       "             'SPADINA - BD',                  nan, 'SCARBOROUGH CENTRE',\n",
       "          'ST. GEORGE - BD',              'YONGE',          'BESSARION',\n",
       "                  'SPADINA',           'SHEPPARD',            'KENNEDY'],\n",
       "      dtype='object')"
      ]
     },
     "execution_count": 6,
     "metadata": {},
     "output_type": "execute_result"
    }
   ],
   "source": [
    "ttc_stations_index = pd.Index(ttc_stations.unique())\n",
    "ttc_stations_index"
   ]
  },
  {
   "cell_type": "markdown",
   "metadata": {},
   "source": [
    "Lets find which of the Stations don't match"
   ]
  },
  {
   "cell_type": "code",
   "execution_count": 7,
   "metadata": {},
   "outputs": [
    {
     "data": {
      "text/plain": [
       "Index(['MAIN STREET', 'SHEPPARD WEST'], dtype='object')"
      ]
     },
     "execution_count": 7,
     "metadata": {},
     "output_type": "execute_result"
    }
   ],
   "source": [
    "station_index.index.difference(ttc_stations_index)"
   ]
  },
  {
   "cell_type": "code",
   "execution_count": 8,
   "metadata": {},
   "outputs": [
    {
     "data": {
      "text/plain": [
       "Index([         nan,      'BLOOR',  'DOWNSVIEW',    'KENNEDY',       'MAIN',\n",
       "         'SHEPPARD',    'SPADINA', 'ST. GEORGE',      'YONGE'],\n",
       "      dtype='object')"
      ]
     },
     "execution_count": 8,
     "metadata": {},
     "output_type": "execute_result"
    }
   ],
   "source": [
    "ttc_stations_index.difference(station_index.index)"
   ]
  },
  {
   "cell_type": "markdown",
   "metadata": {},
   "source": [
    "Looks like we need to fix:\n",
    "BLOOR–YONGE --> Bloor and Yonge?\n",
    "MAIN STREET --> MAIN\n",
    "SHEPPARD WEST --> SHEPPARD\n",
    "SHEPPARD–YONGE --> DOWNSVIE"
   ]
  },
  {
   "cell_type": "code",
   "execution_count": 9,
   "metadata": {
    "collapsed": true
   },
   "outputs": [],
   "source": [
    "# Remove the STREET from main street like we did in the other file\n",
    "stations.loc[stations['Station'] == 'MAIN STREET', 'Station'] = 'MAIN'\n",
    "\n",
    "# Rename Sheppard West to DOWNSVIEW because this data predates 2017\n",
    "stations.loc[stations['Station'] == 'SHEPPARD WEST', 'Station'] = 'DOWNSVIEW'"
   ]
  },
  {
   "cell_type": "code",
   "execution_count": 10,
   "metadata": {},
   "outputs": [
    {
     "data": {
      "text/plain": [
       "Index([], dtype='object')"
      ]
     },
     "execution_count": 10,
     "metadata": {},
     "output_type": "execute_result"
    }
   ],
   "source": [
    "station_index = stations.set_index('Station')\n",
    "ttc_stations_index = pd.Index(ttc_stations.unique())\n",
    "station_index.index.difference(ttc_stations_index)"
   ]
  },
  {
   "cell_type": "code",
   "execution_count": 11,
   "metadata": {},
   "outputs": [
    {
     "data": {
      "text/plain": [
       "Index([nan, 'BLOOR', 'KENNEDY', 'SHEPPARD', 'SPADINA', 'ST. GEORGE', 'YONGE'], dtype='object')"
      ]
     },
     "execution_count": 11,
     "metadata": {},
     "output_type": "execute_result"
    }
   ],
   "source": [
    "ttc_stations_index.difference(station_index.index)"
   ]
  },
  {
   "cell_type": "code",
   "execution_count": 12,
   "metadata": {
    "collapsed": true
   },
   "outputs": [],
   "source": [
    "ttc_exchange_stations = ttc[ttc['Station'].isin(['BLOOR', 'SHEPPARD', 'YONGE'])]"
   ]
  },
  {
   "cell_type": "code",
   "execution_count": 13,
   "metadata": {},
   "outputs": [
    {
     "data": {
      "text/html": [
       "<div>\n",
       "<style>\n",
       "    .dataframe thead tr:only-child th {\n",
       "        text-align: right;\n",
       "    }\n",
       "\n",
       "    .dataframe thead th {\n",
       "        text-align: left;\n",
       "    }\n",
       "\n",
       "    .dataframe tbody tr th {\n",
       "        vertical-align: top;\n",
       "    }\n",
       "</style>\n",
       "<table border=\"1\" class=\"dataframe\">\n",
       "  <thead>\n",
       "    <tr style=\"text-align: right;\">\n",
       "      <th></th>\n",
       "      <th>Station</th>\n",
       "      <th>Line</th>\n",
       "    </tr>\n",
       "  </thead>\n",
       "  <tbody>\n",
       "    <tr>\n",
       "      <th>69</th>\n",
       "      <td>BLOOR</td>\n",
       "      <td>NaN</td>\n",
       "    </tr>\n",
       "    <tr>\n",
       "      <th>15880</th>\n",
       "      <td>SHEPPARD</td>\n",
       "      <td>NaN</td>\n",
       "    </tr>\n",
       "    <tr>\n",
       "      <th>20421</th>\n",
       "      <td>SHEPPARD</td>\n",
       "      <td>Bloor-Danforth</td>\n",
       "    </tr>\n",
       "    <tr>\n",
       "      <th>1178</th>\n",
       "      <td>YONGE</td>\n",
       "      <td>NaN</td>\n",
       "    </tr>\n",
       "  </tbody>\n",
       "</table>\n",
       "</div>"
      ],
      "text/plain": [
       "        Station            Line\n",
       "69        BLOOR             NaN\n",
       "15880  SHEPPARD             NaN\n",
       "20421  SHEPPARD  Bloor-Danforth\n",
       "1178      YONGE             NaN"
      ]
     },
     "execution_count": 13,
     "metadata": {},
     "output_type": "execute_result"
    }
   ],
   "source": [
    "ttc_exchange_stations[['Station', 'Line']].drop_duplicates().sort_values('Station')"
   ]
  },
  {
   "cell_type": "code",
   "execution_count": 14,
   "metadata": {},
   "outputs": [
    {
     "data": {
      "text/plain": [
       "Station   Line          \n",
       "SHEPPARD  Bloor-Danforth    37\n",
       "dtype: int64"
      ]
     },
     "execution_count": 14,
     "metadata": {},
     "output_type": "execute_result"
    }
   ],
   "source": [
    "ttc_exchange_stations.groupby(['Station', 'Line']).size()"
   ]
  },
  {
   "cell_type": "code",
   "execution_count": 18,
   "metadata": {},
   "outputs": [
    {
     "data": {
      "text/html": [
       "<div>\n",
       "<style>\n",
       "    .dataframe thead tr:only-child th {\n",
       "        text-align: right;\n",
       "    }\n",
       "\n",
       "    .dataframe thead th {\n",
       "        text-align: left;\n",
       "    }\n",
       "\n",
       "    .dataframe tbody tr th {\n",
       "        vertical-align: top;\n",
       "    }\n",
       "</style>\n",
       "<table border=\"1\" class=\"dataframe\">\n",
       "  <thead>\n",
       "    <tr style=\"text-align: right;\">\n",
       "      <th></th>\n",
       "      <th>Station</th>\n",
       "      <th>Grade</th>\n",
       "      <th>2015 ridership</th>\n",
       "      <th>Ridership</th>\n",
       "    </tr>\n",
       "  </thead>\n",
       "  <tbody>\n",
       "    <tr>\n",
       "      <th>0</th>\n",
       "      <td>COLLEGE</td>\n",
       "      <td>Underground</td>\n",
       "      <td>47,79</td>\n",
       "      <td>4779</td>\n",
       "    </tr>\n",
       "    <tr>\n",
       "      <th>1</th>\n",
       "      <td>DAVISVILLE</td>\n",
       "      <td>Surface</td>\n",
       "      <td>25,33</td>\n",
       "      <td>2533</td>\n",
       "    </tr>\n",
       "    <tr>\n",
       "      <th>2</th>\n",
       "      <td>DUNDAS</td>\n",
       "      <td>Underground</td>\n",
       "      <td>81,33</td>\n",
       "      <td>8133</td>\n",
       "    </tr>\n",
       "    <tr>\n",
       "      <th>3</th>\n",
       "      <td>DUPONT</td>\n",
       "      <td>Underground</td>\n",
       "      <td>16,14</td>\n",
       "      <td>1614</td>\n",
       "    </tr>\n",
       "    <tr>\n",
       "      <th>4</th>\n",
       "      <td>EGLINTON</td>\n",
       "      <td>Underground</td>\n",
       "      <td>72,75</td>\n",
       "      <td>7275</td>\n",
       "    </tr>\n",
       "    <tr>\n",
       "      <th>5</th>\n",
       "      <td>EGLINTON WEST</td>\n",
       "      <td>Underground/Surface</td>\n",
       "      <td>16,83</td>\n",
       "      <td>1683</td>\n",
       "    </tr>\n",
       "    <tr>\n",
       "      <th>6</th>\n",
       "      <td>FINCH</td>\n",
       "      <td>Underground</td>\n",
       "      <td>100,82</td>\n",
       "      <td>10082</td>\n",
       "    </tr>\n",
       "    <tr>\n",
       "      <th>7</th>\n",
       "      <td>GLENCAIRN</td>\n",
       "      <td>Surface</td>\n",
       "      <td>5,72</td>\n",
       "      <td>572</td>\n",
       "    </tr>\n",
       "    <tr>\n",
       "      <th>8</th>\n",
       "      <td>KING</td>\n",
       "      <td>Underground</td>\n",
       "      <td>55,81</td>\n",
       "      <td>5581</td>\n",
       "    </tr>\n",
       "    <tr>\n",
       "      <th>9</th>\n",
       "      <td>LAWRENCE</td>\n",
       "      <td>Underground</td>\n",
       "      <td>24,56</td>\n",
       "      <td>2456</td>\n",
       "    </tr>\n",
       "    <tr>\n",
       "      <th>10</th>\n",
       "      <td>LAWRENCE WEST</td>\n",
       "      <td>Surface</td>\n",
       "      <td>19,95</td>\n",
       "      <td>1995</td>\n",
       "    </tr>\n",
       "    <tr>\n",
       "      <th>11</th>\n",
       "      <td>MUSEUM</td>\n",
       "      <td>Underground</td>\n",
       "      <td>8,1</td>\n",
       "      <td>81</td>\n",
       "    </tr>\n",
       "    <tr>\n",
       "      <th>12</th>\n",
       "      <td>NORTH YORK CENTRE</td>\n",
       "      <td>Underground</td>\n",
       "      <td>24,22</td>\n",
       "      <td>2422</td>\n",
       "    </tr>\n",
       "    <tr>\n",
       "      <th>13</th>\n",
       "      <td>OSGOODE</td>\n",
       "      <td>Underground</td>\n",
       "      <td>22,49</td>\n",
       "      <td>2249</td>\n",
       "    </tr>\n",
       "    <tr>\n",
       "      <th>14</th>\n",
       "      <td>QUEEN</td>\n",
       "      <td>Underground</td>\n",
       "      <td>48,01</td>\n",
       "      <td>4801</td>\n",
       "    </tr>\n",
       "    <tr>\n",
       "      <th>15</th>\n",
       "      <td>QUEEN'S PARK</td>\n",
       "      <td>Underground</td>\n",
       "      <td>48,07</td>\n",
       "      <td>4807</td>\n",
       "    </tr>\n",
       "    <tr>\n",
       "      <th>16</th>\n",
       "      <td>ROSEDALE</td>\n",
       "      <td>Surface</td>\n",
       "      <td>5,98</td>\n",
       "      <td>598</td>\n",
       "    </tr>\n",
       "    <tr>\n",
       "      <th>17</th>\n",
       "      <td>DOWNSVIEW</td>\n",
       "      <td>Underground</td>\n",
       "      <td>37,67</td>\n",
       "      <td>3767</td>\n",
       "    </tr>\n",
       "    <tr>\n",
       "      <th>18</th>\n",
       "      <td>ST. ANDREW</td>\n",
       "      <td>Underground</td>\n",
       "      <td>56,12</td>\n",
       "      <td>5612</td>\n",
       "    </tr>\n",
       "    <tr>\n",
       "      <th>19</th>\n",
       "      <td>ST. CLAIR</td>\n",
       "      <td>Underground</td>\n",
       "      <td>36,32</td>\n",
       "      <td>3632</td>\n",
       "    </tr>\n",
       "    <tr>\n",
       "      <th>20</th>\n",
       "      <td>ST. CLAIR WEST</td>\n",
       "      <td>Underground</td>\n",
       "      <td>28,11</td>\n",
       "      <td>2811</td>\n",
       "    </tr>\n",
       "    <tr>\n",
       "      <th>21</th>\n",
       "      <td>ST. PATRICK</td>\n",
       "      <td>Underground</td>\n",
       "      <td>30,25</td>\n",
       "      <td>3025</td>\n",
       "    </tr>\n",
       "    <tr>\n",
       "      <th>22</th>\n",
       "      <td>SUMMERHILL</td>\n",
       "      <td>Underground</td>\n",
       "      <td>5,78</td>\n",
       "      <td>578</td>\n",
       "    </tr>\n",
       "    <tr>\n",
       "      <th>23</th>\n",
       "      <td>UNION</td>\n",
       "      <td>Underground</td>\n",
       "      <td>118,45</td>\n",
       "      <td>11845</td>\n",
       "    </tr>\n",
       "    <tr>\n",
       "      <th>24</th>\n",
       "      <td>WELLESLEY</td>\n",
       "      <td>Underground</td>\n",
       "      <td>23,14</td>\n",
       "      <td>2314</td>\n",
       "    </tr>\n",
       "    <tr>\n",
       "      <th>25</th>\n",
       "      <td>WILSON</td>\n",
       "      <td>Surface</td>\n",
       "      <td>22,81</td>\n",
       "      <td>2281</td>\n",
       "    </tr>\n",
       "    <tr>\n",
       "      <th>26</th>\n",
       "      <td>YORK MILLS</td>\n",
       "      <td>Underground</td>\n",
       "      <td>28,15</td>\n",
       "      <td>2815</td>\n",
       "    </tr>\n",
       "    <tr>\n",
       "      <th>27</th>\n",
       "      <td>YORKDALE</td>\n",
       "      <td>Surface</td>\n",
       "      <td>19,15</td>\n",
       "      <td>1915</td>\n",
       "    </tr>\n",
       "    <tr>\n",
       "      <th>28</th>\n",
       "      <td>BLOOR-YONGE - BD</td>\n",
       "      <td>Underground</td>\n",
       "      <td>183,24</td>\n",
       "      <td>18324</td>\n",
       "    </tr>\n",
       "    <tr>\n",
       "      <th>29</th>\n",
       "      <td>BLOOR-YONGE - YU</td>\n",
       "      <td>Underground</td>\n",
       "      <td>216,19</td>\n",
       "      <td>21619</td>\n",
       "    </tr>\n",
       "    <tr>\n",
       "      <th>...</th>\n",
       "      <td>...</td>\n",
       "      <td>...</td>\n",
       "      <td>...</td>\n",
       "      <td>...</td>\n",
       "    </tr>\n",
       "    <tr>\n",
       "      <th>44</th>\n",
       "      <td>DUFFERIN</td>\n",
       "      <td>Underground</td>\n",
       "      <td>29,94</td>\n",
       "      <td>2994</td>\n",
       "    </tr>\n",
       "    <tr>\n",
       "      <th>45</th>\n",
       "      <td>DUNDAS WEST</td>\n",
       "      <td>Underground</td>\n",
       "      <td>29,62</td>\n",
       "      <td>2962</td>\n",
       "    </tr>\n",
       "    <tr>\n",
       "      <th>46</th>\n",
       "      <td>GREENWOOD</td>\n",
       "      <td>Underground</td>\n",
       "      <td>9,04</td>\n",
       "      <td>904</td>\n",
       "    </tr>\n",
       "    <tr>\n",
       "      <th>47</th>\n",
       "      <td>HIGH PARK</td>\n",
       "      <td>Underground/Surface</td>\n",
       "      <td>10,39</td>\n",
       "      <td>1039</td>\n",
       "    </tr>\n",
       "    <tr>\n",
       "      <th>48</th>\n",
       "      <td>ISLINGTON</td>\n",
       "      <td>Underground</td>\n",
       "      <td>37,41</td>\n",
       "      <td>3741</td>\n",
       "    </tr>\n",
       "    <tr>\n",
       "      <th>49</th>\n",
       "      <td>JANE</td>\n",
       "      <td>Underground</td>\n",
       "      <td>19,82</td>\n",
       "      <td>1982</td>\n",
       "    </tr>\n",
       "    <tr>\n",
       "      <th>50</th>\n",
       "      <td>KEELE</td>\n",
       "      <td>Elevated</td>\n",
       "      <td>15,24</td>\n",
       "      <td>1524</td>\n",
       "    </tr>\n",
       "    <tr>\n",
       "      <th>51</th>\n",
       "      <td>KIPLING</td>\n",
       "      <td>Surface</td>\n",
       "      <td>52,93</td>\n",
       "      <td>5293</td>\n",
       "    </tr>\n",
       "    <tr>\n",
       "      <th>52</th>\n",
       "      <td>LANSDOWNE</td>\n",
       "      <td>Underground</td>\n",
       "      <td>19,25</td>\n",
       "      <td>1925</td>\n",
       "    </tr>\n",
       "    <tr>\n",
       "      <th>53</th>\n",
       "      <td>MAIN</td>\n",
       "      <td>Underground</td>\n",
       "      <td>24,13</td>\n",
       "      <td>2413</td>\n",
       "    </tr>\n",
       "    <tr>\n",
       "      <th>54</th>\n",
       "      <td>OLD MILL</td>\n",
       "      <td>Underground/Elevated</td>\n",
       "      <td>6,62</td>\n",
       "      <td>662</td>\n",
       "    </tr>\n",
       "    <tr>\n",
       "      <th>55</th>\n",
       "      <td>OSSINGTON</td>\n",
       "      <td>Underground</td>\n",
       "      <td>31,61</td>\n",
       "      <td>3161</td>\n",
       "    </tr>\n",
       "    <tr>\n",
       "      <th>56</th>\n",
       "      <td>PAPE</td>\n",
       "      <td>Underground</td>\n",
       "      <td>28,71</td>\n",
       "      <td>2871</td>\n",
       "    </tr>\n",
       "    <tr>\n",
       "      <th>57</th>\n",
       "      <td>ROYAL YORK</td>\n",
       "      <td>Underground</td>\n",
       "      <td>20,23</td>\n",
       "      <td>2023</td>\n",
       "    </tr>\n",
       "    <tr>\n",
       "      <th>58</th>\n",
       "      <td>RUNNYMEDE</td>\n",
       "      <td>Underground</td>\n",
       "      <td>17,04</td>\n",
       "      <td>1704</td>\n",
       "    </tr>\n",
       "    <tr>\n",
       "      <th>59</th>\n",
       "      <td>SHERBOURNE</td>\n",
       "      <td>Underground</td>\n",
       "      <td>25,73</td>\n",
       "      <td>2573</td>\n",
       "    </tr>\n",
       "    <tr>\n",
       "      <th>60</th>\n",
       "      <td>VICTORIA PARK</td>\n",
       "      <td>Surface</td>\n",
       "      <td>28,61</td>\n",
       "      <td>2861</td>\n",
       "    </tr>\n",
       "    <tr>\n",
       "      <th>61</th>\n",
       "      <td>WARDEN</td>\n",
       "      <td>Surface</td>\n",
       "      <td>29,74</td>\n",
       "      <td>2974</td>\n",
       "    </tr>\n",
       "    <tr>\n",
       "      <th>62</th>\n",
       "      <td>WOODBINE</td>\n",
       "      <td>Underground</td>\n",
       "      <td>14,38</td>\n",
       "      <td>1438</td>\n",
       "    </tr>\n",
       "    <tr>\n",
       "      <th>63</th>\n",
       "      <td>KENNEDY - SRT</td>\n",
       "      <td>Underground/Elevated</td>\n",
       "      <td>35,79</td>\n",
       "      <td>3579</td>\n",
       "    </tr>\n",
       "    <tr>\n",
       "      <th>64</th>\n",
       "      <td>KENNEDY - BD</td>\n",
       "      <td>Underground/Elevated</td>\n",
       "      <td>69,79</td>\n",
       "      <td>6979</td>\n",
       "    </tr>\n",
       "    <tr>\n",
       "      <th>65</th>\n",
       "      <td>ELLESMERE</td>\n",
       "      <td>Surface</td>\n",
       "      <td>1,56</td>\n",
       "      <td>156</td>\n",
       "    </tr>\n",
       "    <tr>\n",
       "      <th>66</th>\n",
       "      <td>LAWRENCE EAST</td>\n",
       "      <td>Surface</td>\n",
       "      <td>8,13</td>\n",
       "      <td>813</td>\n",
       "    </tr>\n",
       "    <tr>\n",
       "      <th>67</th>\n",
       "      <td>MCCOWAN</td>\n",
       "      <td>Elevated</td>\n",
       "      <td>4,62</td>\n",
       "      <td>462</td>\n",
       "    </tr>\n",
       "    <tr>\n",
       "      <th>68</th>\n",
       "      <td>MIDLAND</td>\n",
       "      <td>Elevated</td>\n",
       "      <td>2,41</td>\n",
       "      <td>241</td>\n",
       "    </tr>\n",
       "    <tr>\n",
       "      <th>69</th>\n",
       "      <td>SCARBOROUGH CENTRE</td>\n",
       "      <td>Elevated</td>\n",
       "      <td>24,63</td>\n",
       "      <td>2463</td>\n",
       "    </tr>\n",
       "    <tr>\n",
       "      <th>70</th>\n",
       "      <td>BAYVIEW</td>\n",
       "      <td>Underground</td>\n",
       "      <td>8,99</td>\n",
       "      <td>899</td>\n",
       "    </tr>\n",
       "    <tr>\n",
       "      <th>71</th>\n",
       "      <td>BESSARION</td>\n",
       "      <td>Underground</td>\n",
       "      <td>3,05</td>\n",
       "      <td>305</td>\n",
       "    </tr>\n",
       "    <tr>\n",
       "      <th>72</th>\n",
       "      <td>DON MILLS</td>\n",
       "      <td>Underground</td>\n",
       "      <td>33,76</td>\n",
       "      <td>3376</td>\n",
       "    </tr>\n",
       "    <tr>\n",
       "      <th>73</th>\n",
       "      <td>LESLIE</td>\n",
       "      <td>Underground</td>\n",
       "      <td>6,6</td>\n",
       "      <td>66</td>\n",
       "    </tr>\n",
       "  </tbody>\n",
       "</table>\n",
       "<p>74 rows × 4 columns</p>\n",
       "</div>"
      ],
      "text/plain": [
       "               Station                 Grade 2015 ridership  Ridership\n",
       "0              COLLEGE           Underground          47,79       4779\n",
       "1           DAVISVILLE               Surface          25,33       2533\n",
       "2               DUNDAS           Underground          81,33       8133\n",
       "3               DUPONT           Underground          16,14       1614\n",
       "4             EGLINTON           Underground          72,75       7275\n",
       "5        EGLINTON WEST   Underground/Surface          16,83       1683\n",
       "6                FINCH           Underground         100,82      10082\n",
       "7            GLENCAIRN               Surface           5,72        572\n",
       "8                 KING           Underground          55,81       5581\n",
       "9             LAWRENCE           Underground          24,56       2456\n",
       "10       LAWRENCE WEST               Surface          19,95       1995\n",
       "11              MUSEUM           Underground            8,1         81\n",
       "12   NORTH YORK CENTRE           Underground          24,22       2422\n",
       "13             OSGOODE           Underground          22,49       2249\n",
       "14               QUEEN           Underground          48,01       4801\n",
       "15        QUEEN'S PARK           Underground          48,07       4807\n",
       "16            ROSEDALE               Surface           5,98        598\n",
       "17           DOWNSVIEW           Underground          37,67       3767\n",
       "18          ST. ANDREW           Underground          56,12       5612\n",
       "19           ST. CLAIR           Underground          36,32       3632\n",
       "20      ST. CLAIR WEST           Underground          28,11       2811\n",
       "21         ST. PATRICK           Underground          30,25       3025\n",
       "22          SUMMERHILL           Underground           5,78        578\n",
       "23               UNION           Underground         118,45      11845\n",
       "24           WELLESLEY           Underground          23,14       2314\n",
       "25              WILSON               Surface          22,81       2281\n",
       "26          YORK MILLS           Underground          28,15       2815\n",
       "27            YORKDALE               Surface          19,15       1915\n",
       "28    BLOOR-YONGE - BD           Underground         183,24      18324\n",
       "29    BLOOR-YONGE - YU           Underground         216,19      21619\n",
       "..                 ...                   ...            ...        ...\n",
       "44            DUFFERIN           Underground          29,94       2994\n",
       "45         DUNDAS WEST           Underground          29,62       2962\n",
       "46           GREENWOOD           Underground           9,04        904\n",
       "47           HIGH PARK   Underground/Surface          10,39       1039\n",
       "48           ISLINGTON           Underground          37,41       3741\n",
       "49                JANE           Underground          19,82       1982\n",
       "50               KEELE              Elevated          15,24       1524\n",
       "51             KIPLING               Surface          52,93       5293\n",
       "52           LANSDOWNE           Underground          19,25       1925\n",
       "53                MAIN           Underground          24,13       2413\n",
       "54            OLD MILL  Underground/Elevated           6,62        662\n",
       "55           OSSINGTON           Underground          31,61       3161\n",
       "56                PAPE           Underground          28,71       2871\n",
       "57          ROYAL YORK           Underground          20,23       2023\n",
       "58           RUNNYMEDE           Underground          17,04       1704\n",
       "59          SHERBOURNE           Underground          25,73       2573\n",
       "60       VICTORIA PARK               Surface          28,61       2861\n",
       "61              WARDEN               Surface          29,74       2974\n",
       "62            WOODBINE           Underground          14,38       1438\n",
       "63       KENNEDY - SRT  Underground/Elevated          35,79       3579\n",
       "64        KENNEDY - BD  Underground/Elevated          69,79       6979\n",
       "65           ELLESMERE               Surface           1,56        156\n",
       "66       LAWRENCE EAST               Surface           8,13        813\n",
       "67             MCCOWAN              Elevated           4,62        462\n",
       "68             MIDLAND              Elevated           2,41        241\n",
       "69  SCARBOROUGH CENTRE              Elevated          24,63       2463\n",
       "70             BAYVIEW           Underground           8,99        899\n",
       "71           BESSARION           Underground           3,05        305\n",
       "72           DON MILLS           Underground          33,76       3376\n",
       "73              LESLIE           Underground            6,6         66\n",
       "\n",
       "[74 rows x 4 columns]"
      ]
     },
     "execution_count": 18,
     "metadata": {},
     "output_type": "execute_result"
    }
   ],
   "source": [
    "stations['Ridership'] = stations['2015 ridership']\n",
    "stations['Ridership'] = stations['Ridership'].apply(lambda x: pd.to_numeric(x.replace(',',''), errors='coerce'))\n",
    "stations"
   ]
  },
  {
   "cell_type": "code",
   "execution_count": 19,
   "metadata": {
    "collapsed": true
   },
   "outputs": [],
   "source": [
    "stations.to_csv('stations_cleaned.csv', index=False)"
   ]
  },
  {
   "cell_type": "code",
   "execution_count": null,
   "metadata": {
    "collapsed": true
   },
   "outputs": [],
   "source": []
  }
 ],
 "metadata": {
  "kernelspec": {
   "display_name": "Python 3",
   "language": "python",
   "name": "python3"
  },
  "language_info": {
   "codemirror_mode": {
    "name": "ipython",
    "version": 3
   },
   "file_extension": ".py",
   "mimetype": "text/x-python",
   "name": "python",
   "nbconvert_exporter": "python",
   "pygments_lexer": "ipython3",
   "version": "3.6.1"
  },
  "varInspector": {
   "cols": {
    "lenName": 16,
    "lenType": 16,
    "lenVar": 40
   },
   "kernels_config": {
    "python": {
     "delete_cmd_postfix": "",
     "delete_cmd_prefix": "del ",
     "library": "var_list.py",
     "varRefreshCmd": "print(var_dic_list())"
    },
    "r": {
     "delete_cmd_postfix": ") ",
     "delete_cmd_prefix": "rm(",
     "library": "var_list.r",
     "varRefreshCmd": "cat(var_dic_list()) "
    }
   },
   "types_to_exclude": [
    "module",
    "function",
    "builtin_function_or_method",
    "instance",
    "_Feature"
   ],
   "window_display": false
  }
 },
 "nbformat": 4,
 "nbformat_minor": 2
}
