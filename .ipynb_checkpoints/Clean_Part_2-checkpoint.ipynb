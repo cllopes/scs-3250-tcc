{
 "cells": [
  {
   "cell_type": "code",
   "execution_count": 21,
   "metadata": {
    "collapsed": true
   },
   "outputs": [],
   "source": [
    "import pandas as pd\n",
    "import numpy as np"
   ]
  },
  {
   "cell_type": "code",
   "execution_count": 22,
   "metadata": {
    "collapsed": true
   },
   "outputs": [],
   "source": [
    "ttc = pd.read_csv('ttc_delays_cleaned.csv')"
   ]
  },
  {
   "cell_type": "code",
   "execution_count": 23,
   "metadata": {},
   "outputs": [
    {
     "data": {
      "text/plain": [
       "0        HIGH PARK\n",
       "1    SHEPPARD - YU\n",
       "Name: Station, dtype: object"
      ]
     },
     "execution_count": 23,
     "metadata": {},
     "output_type": "execute_result"
    }
   ],
   "source": [
    "ttc_stations = ttc['Station']\n",
    "ttc_stations.head(2)"
   ]
  },
  {
   "cell_type": "code",
   "execution_count": 24,
   "metadata": {},
   "outputs": [
    {
     "data": {
      "text/html": [
       "<div>\n",
       "<style>\n",
       "    .dataframe thead tr:only-child th {\n",
       "        text-align: right;\n",
       "    }\n",
       "\n",
       "    .dataframe thead th {\n",
       "        text-align: left;\n",
       "    }\n",
       "\n",
       "    .dataframe tbody tr th {\n",
       "        vertical-align: top;\n",
       "    }\n",
       "</style>\n",
       "<table border=\"1\" class=\"dataframe\">\n",
       "  <thead>\n",
       "    <tr style=\"text-align: right;\">\n",
       "      <th></th>\n",
       "      <th>Station</th>\n",
       "      <th>Grade</th>\n",
       "      <th>2015 ridership</th>\n",
       "    </tr>\n",
       "  </thead>\n",
       "  <tbody>\n",
       "    <tr>\n",
       "      <th>0</th>\n",
       "      <td>COLLEGE</td>\n",
       "      <td>Underground</td>\n",
       "      <td>47,790</td>\n",
       "    </tr>\n",
       "    <tr>\n",
       "      <th>1</th>\n",
       "      <td>DAVISVILLE</td>\n",
       "      <td>Surface</td>\n",
       "      <td>25,330</td>\n",
       "    </tr>\n",
       "  </tbody>\n",
       "</table>\n",
       "</div>"
      ],
      "text/plain": [
       "      Station        Grade 2015 ridership\n",
       "0     COLLEGE  Underground         47,790\n",
       "1  DAVISVILLE      Surface         25,330"
      ]
     },
     "execution_count": 24,
     "metadata": {},
     "output_type": "execute_result"
    }
   ],
   "source": [
    "stations = pd.read_csv('csv_originals/station_ridership_grade.csv')\n",
    "stations['Station'] = stations['Station'].str.upper()\n",
    "stations.head(2)"
   ]
  },
  {
   "cell_type": "code",
   "execution_count": 25,
   "metadata": {},
   "outputs": [
    {
     "data": {
      "text/plain": [
       "Index(['COLLEGE', 'DAVISVILLE', 'DUNDAS', 'DUPONT', 'EGLINTON',\n",
       "       'EGLINTON WEST', 'FINCH', 'GLENCAIRN', 'KING', 'LAWRENCE',\n",
       "       'LAWRENCE WEST', 'MUSEUM', 'NORTH YORK CENTRE', 'OSGOODE', 'QUEEN',\n",
       "       'QUEEN'S PARK', 'ROSEDALE', 'SHEPPARD WEST', 'ST. ANDREW', 'ST. CLAIR',\n",
       "       'ST. CLAIR WEST', 'ST. PATRICK', 'SUMMERHILL', 'UNION', 'WELLESLEY',\n",
       "       'WILSON', 'YORK MILLS', 'YORKDALE', 'BLOOR-YONGE - BD',\n",
       "       'BLOOR-YONGE - YU', 'SPADINA - YU', 'SPADINA - BD', 'ST. GEORGE - YU',\n",
       "       'ST. GEORGE - BD', 'SHEPPARD - SHP', 'SHEPPARD - YU', 'BATHURST', 'BAY',\n",
       "       'BROADVIEW', 'CASTLE FRANK', 'CHESTER', 'CHRISTIE', 'COXWELL',\n",
       "       'DONLANDS', 'DUFFERIN', 'DUNDAS WEST', 'GREENWOOD', 'HIGH PARK',\n",
       "       'ISLINGTON', 'JANE', 'KEELE', 'KIPLING', 'LANSDOWNE', 'MAIN STREET',\n",
       "       'OLD MILL', 'OSSINGTON', 'PAPE', 'ROYAL YORK', 'RUNNYMEDE',\n",
       "       'SHERBOURNE', 'VICTORIA PARK', 'WARDEN', 'WOODBINE', 'KENNEDY - SRT',\n",
       "       'KENNEDY - BD', 'ELLESMERE', 'LAWRENCE EAST', 'MCCOWAN', 'MIDLAND',\n",
       "       'SCARBOROUGH CENTRE', 'BAYVIEW', 'BESSARION', 'DON MILLS', 'LESLIE'],\n",
       "      dtype='object', name='Station')"
      ]
     },
     "execution_count": 25,
     "metadata": {},
     "output_type": "execute_result"
    }
   ],
   "source": [
    "station_index = stations.set_index('Station')\n",
    "station_index.index"
   ]
  },
  {
   "cell_type": "code",
   "execution_count": 26,
   "metadata": {},
   "outputs": [
    {
     "data": {
      "text/plain": [
       "Index([         'HIGH PARK',      'SHEPPARD - YU',          'LANSDOWNE',\n",
       "         'BLOOR-YONGE - YU',           'DUFFERIN',  'NORTH YORK CENTRE',\n",
       "                'RUNNYMEDE',              'QUEEN',         'ST. ANDREW',\n",
       "                'WELLESLEY',            'KIPLING',        'ST. PATRICK',\n",
       "             'KENNEDY - BD',               'JANE',           'OLD MILL',\n",
       "                   'WILSON',          'DOWNSVIEW',                'BAY',\n",
       "                    'FINCH',            'COXWELL',     'ST. CLAIR WEST',\n",
       "                   'DUPONT',         'YORK MILLS',        'DUNDAS WEST',\n",
       "                  'OSGOODE',            'COLLEGE',   'BLOOR-YONGE - BD',\n",
       "            'VICTORIA PARK',    'ST. GEORGE - YU',     'SHEPPARD - SHP',\n",
       "                'BROADVIEW',           'EGLINTON',           'ROSEDALE',\n",
       "                     'PAPE',          'GREENWOOD',          'ISLINGTON',\n",
       "                   'WARDEN',         'DAVISVILLE',           'LAWRENCE',\n",
       "            'EGLINTON WEST',              'BLOOR',              'KEELE',\n",
       "                    'UNION',            'CHESTER',          'GLENCAIRN',\n",
       "                 'YORKDALE',             'MUSEUM',      'LAWRENCE EAST',\n",
       "            'KENNEDY - SRT',            'MCCOWAN',            'MIDLAND',\n",
       "                'ELLESMERE',             'DUNDAS',         'SHERBOURNE',\n",
       "                     'KING',           'BATHURST',      'LAWRENCE WEST',\n",
       "                 'DONLANDS',             'LESLIE',            'BAYVIEW',\n",
       "             'QUEEN'S PARK',       'SPADINA - YU',         'SUMMERHILL',\n",
       "                'DON MILLS',               'MAIN',          'OSSINGTON',\n",
       "               'ROYAL YORK',       'CASTLE FRANK',         'ST. GEORGE',\n",
       "                 'CHRISTIE',           'WOODBINE',          'ST. CLAIR',\n",
       "             'SPADINA - BD',                  nan, 'SCARBOROUGH CENTRE',\n",
       "          'ST. GEORGE - BD',              'YONGE',          'BESSARION',\n",
       "                  'SPADINA',           'SHEPPARD',            'KENNEDY'],\n",
       "      dtype='object')"
      ]
     },
     "execution_count": 26,
     "metadata": {},
     "output_type": "execute_result"
    }
   ],
   "source": [
    "ttc_stations_index = pd.Index(ttc_stations.unique())\n",
    "ttc_stations_index"
   ]
  },
  {
   "cell_type": "markdown",
   "metadata": {},
   "source": [
    "Lets find which of the Stations don't match"
   ]
  },
  {
   "cell_type": "code",
   "execution_count": 27,
   "metadata": {},
   "outputs": [
    {
     "data": {
      "text/plain": [
       "Index(['MAIN STREET', 'SHEPPARD WEST'], dtype='object')"
      ]
     },
     "execution_count": 27,
     "metadata": {},
     "output_type": "execute_result"
    }
   ],
   "source": [
    "station_index.index.difference(ttc_stations_index)"
   ]
  },
  {
   "cell_type": "code",
   "execution_count": 28,
   "metadata": {},
   "outputs": [
    {
     "data": {
      "text/plain": [
       "Index([         nan,      'BLOOR',  'DOWNSVIEW',    'KENNEDY',       'MAIN',\n",
       "         'SHEPPARD',    'SPADINA', 'ST. GEORGE',      'YONGE'],\n",
       "      dtype='object')"
      ]
     },
     "execution_count": 28,
     "metadata": {},
     "output_type": "execute_result"
    }
   ],
   "source": [
    "ttc_stations_index.difference(station_index.index)"
   ]
  },
  {
   "cell_type": "markdown",
   "metadata": {},
   "source": [
    "Looks like we need to fix:\n",
    "BLOOR–YONGE --> Bloor and Yonge?\n",
    "MAIN STREET --> MAIN\n",
    "SHEPPARD WEST --> SHEPPARD\n",
    "SHEPPARD–YONGE --> DOWNSVIE"
   ]
  },
  {
   "cell_type": "code",
   "execution_count": 46,
   "metadata": {
    "collapsed": true
   },
   "outputs": [],
   "source": [
    "# Remove the STREET from main street like we did in the other file\n",
    "stations.loc[stations['Station'] == 'MAIN STREET', 'Station'] = 'MAIN'\n",
    "\n",
    "# Rename Sheppard West to DOWNSVIEW because this data predates 2017\n",
    "stations.loc[stations['Station'] == 'SHEPPARD WEST', 'Station'] = 'DOWNSVIEW'"
   ]
  },
  {
   "cell_type": "code",
   "execution_count": 47,
   "metadata": {},
   "outputs": [
    {
     "data": {
      "text/plain": [
       "Index([], dtype='object')"
      ]
     },
     "execution_count": 47,
     "metadata": {},
     "output_type": "execute_result"
    }
   ],
   "source": [
    "station_index = stations.set_index('Station')\n",
    "ttc_stations_index = pd.Index(ttc_stations.unique())\n",
    "station_index.index.difference(ttc_stations_index)"
   ]
  },
  {
   "cell_type": "code",
   "execution_count": 48,
   "metadata": {},
   "outputs": [
    {
     "data": {
      "text/plain": [
       "Index([nan, 'BLOOR', 'KENNEDY', 'SHEPPARD', 'SPADINA', 'ST. GEORGE', 'YONGE'], dtype='object')"
      ]
     },
     "execution_count": 48,
     "metadata": {},
     "output_type": "execute_result"
    }
   ],
   "source": [
    "ttc_stations_index.difference(station_index.index)"
   ]
  },
  {
   "cell_type": "code",
   "execution_count": 49,
   "metadata": {
    "collapsed": true
   },
   "outputs": [],
   "source": [
    "ttc_exchange_stations = ttc[ttc['Station'].isin(['BLOOR', 'SHEPPARD', 'YONGE'])]"
   ]
  },
  {
   "cell_type": "code",
   "execution_count": 50,
   "metadata": {},
   "outputs": [
    {
     "data": {
      "text/html": [
       "<div>\n",
       "<style>\n",
       "    .dataframe thead tr:only-child th {\n",
       "        text-align: right;\n",
       "    }\n",
       "\n",
       "    .dataframe thead th {\n",
       "        text-align: left;\n",
       "    }\n",
       "\n",
       "    .dataframe tbody tr th {\n",
       "        vertical-align: top;\n",
       "    }\n",
       "</style>\n",
       "<table border=\"1\" class=\"dataframe\">\n",
       "  <thead>\n",
       "    <tr style=\"text-align: right;\">\n",
       "      <th></th>\n",
       "      <th>Station</th>\n",
       "      <th>Line</th>\n",
       "    </tr>\n",
       "  </thead>\n",
       "  <tbody>\n",
       "    <tr>\n",
       "      <th>69</th>\n",
       "      <td>BLOOR</td>\n",
       "      <td>NaN</td>\n",
       "    </tr>\n",
       "    <tr>\n",
       "      <th>15880</th>\n",
       "      <td>SHEPPARD</td>\n",
       "      <td>NaN</td>\n",
       "    </tr>\n",
       "    <tr>\n",
       "      <th>20421</th>\n",
       "      <td>SHEPPARD</td>\n",
       "      <td>Bloor-Danforth</td>\n",
       "    </tr>\n",
       "    <tr>\n",
       "      <th>1178</th>\n",
       "      <td>YONGE</td>\n",
       "      <td>NaN</td>\n",
       "    </tr>\n",
       "  </tbody>\n",
       "</table>\n",
       "</div>"
      ],
      "text/plain": [
       "        Station            Line\n",
       "69        BLOOR             NaN\n",
       "15880  SHEPPARD             NaN\n",
       "20421  SHEPPARD  Bloor-Danforth\n",
       "1178      YONGE             NaN"
      ]
     },
     "execution_count": 50,
     "metadata": {},
     "output_type": "execute_result"
    }
   ],
   "source": [
    "ttc_exchange_stations[['Station', 'Line']].drop_duplicates().sort_values('Station')"
   ]
  },
  {
   "cell_type": "code",
   "execution_count": 51,
   "metadata": {},
   "outputs": [
    {
     "data": {
      "text/plain": [
       "Station   Line          \n",
       "SHEPPARD  Bloor-Danforth    37\n",
       "dtype: int64"
      ]
     },
     "execution_count": 51,
     "metadata": {},
     "output_type": "execute_result"
    }
   ],
   "source": [
    "ttc_exchange_stations.groupby(['Station', 'Line']).size()"
   ]
  },
  {
   "cell_type": "code",
   "execution_count": 55,
   "metadata": {},
   "outputs": [
    {
     "data": {
      "text/plain": [
       "0      47790.0\n",
       "1      25330.0\n",
       "2      81330.0\n",
       "3      16140.0\n",
       "4      72750.0\n",
       "5      16830.0\n",
       "6     100820.0\n",
       "7       5720.0\n",
       "8      55810.0\n",
       "9      24560.0\n",
       "10     19950.0\n",
       "11      8100.0\n",
       "12     24220.0\n",
       "13     22490.0\n",
       "14     48010.0\n",
       "15     48070.0\n",
       "16      5980.0\n",
       "17         NaN\n",
       "18     56120.0\n",
       "19     36320.0\n",
       "20     28110.0\n",
       "21     30250.0\n",
       "22      5780.0\n",
       "23    118450.0\n",
       "24     23140.0\n",
       "25     22810.0\n",
       "26     28150.0\n",
       "27     19150.0\n",
       "28    183240.0\n",
       "29    216190.0\n",
       "        ...   \n",
       "44     29940.0\n",
       "45     29620.0\n",
       "46      9040.0\n",
       "47     10390.0\n",
       "48     37410.0\n",
       "49     19820.0\n",
       "50     15240.0\n",
       "51     52930.0\n",
       "52     19250.0\n",
       "53         NaN\n",
       "54      6620.0\n",
       "55     31610.0\n",
       "56     28710.0\n",
       "57     20230.0\n",
       "58     17040.0\n",
       "59     25730.0\n",
       "60     28610.0\n",
       "61     29740.0\n",
       "62     14380.0\n",
       "63         NaN\n",
       "64     69790.0\n",
       "65      1560.0\n",
       "66      8130.0\n",
       "67      4620.0\n",
       "68      2410.0\n",
       "69     24630.0\n",
       "70      8990.0\n",
       "71      3050.0\n",
       "72     33760.0\n",
       "73      6600.0\n",
       "Name: Ridership, Length: 74, dtype: float64"
      ]
     },
     "execution_count": 55,
     "metadata": {},
     "output_type": "execute_result"
    }
   ],
   "source": [
    "stations['Ridership'] = stations['2015 ridership']\n",
    "stations['Ridership'].apply(lambda x: pd.to_numeric(x.replace(',',''), errors='coerce'))"
   ]
  },
  {
   "cell_type": "code",
   "execution_count": 56,
   "metadata": {},
   "outputs": [],
   "source": [
    "stations.to_csv('stations_cleaned.csv', index=False)"
   ]
  },
  {
   "cell_type": "code",
   "execution_count": null,
   "metadata": {
    "collapsed": true
   },
   "outputs": [],
   "source": []
  }
 ],
 "metadata": {
  "kernelspec": {
   "display_name": "Python 3",
   "language": "python",
   "name": "python3"
  },
  "language_info": {
   "codemirror_mode": {
    "name": "ipython",
    "version": 3
   },
   "file_extension": ".py",
   "mimetype": "text/x-python",
   "name": "python",
   "nbconvert_exporter": "python",
   "pygments_lexer": "ipython3",
   "version": "3.6.1"
  },
  "varInspector": {
   "cols": {
    "lenName": 16,
    "lenType": 16,
    "lenVar": 40
   },
   "kernels_config": {
    "python": {
     "delete_cmd_postfix": "",
     "delete_cmd_prefix": "del ",
     "library": "var_list.py",
     "varRefreshCmd": "print(var_dic_list())"
    },
    "r": {
     "delete_cmd_postfix": ") ",
     "delete_cmd_prefix": "rm(",
     "library": "var_list.r",
     "varRefreshCmd": "cat(var_dic_list()) "
    }
   },
   "types_to_exclude": [
    "module",
    "function",
    "builtin_function_or_method",
    "instance",
    "_Feature"
   ],
   "window_display": false
  }
 },
 "nbformat": 4,
 "nbformat_minor": 2
}
