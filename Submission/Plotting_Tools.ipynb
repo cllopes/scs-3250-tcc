{
 "cells": [
  {
   "cell_type": "markdown",
   "metadata": {},
   "source": [
    "## Plotting Tools"
   ]
  },
  {
   "cell_type": "code",
   "execution_count": 1,
   "metadata": {
    "collapsed": true
   },
   "outputs": [],
   "source": [
    "from mpl_toolkits.mplot3d import axes3d, Axes3D\n",
    "from matplotlib.ticker import FuncFormatter"
   ]
  },
  {
   "cell_type": "code",
   "execution_count": 2,
   "metadata": {
    "collapsed": true
   },
   "outputs": [],
   "source": [
    "def plot_3d_bar(df, groups, ylabels, *args, **kwargs):\n",
    "    c = kwargs.get('c', None)\n",
    "    fig = plt.figure(figsize=(12,9))\n",
    "    ax = fig.add_subplot(111, projection='3d')\n",
    "    \n",
    "    x_num = df.shape[0]\n",
    "    y_num = df.shape[1]\n",
    "    \n",
    "    # Set the x to 1,1,1,1,2,2,2,3,3,3....\n",
    "    x = np.tile(np.arange(0, x_num), y_num)\n",
    "    # Set the y to 1,2,3,1,2,3,1,2,3 ....\n",
    "    y = np.repeat(np.arange(0, y_num), x_num)\n",
    "    #Set the z to all 0's\n",
    "    z = np.zeros(x_num*y_num)\n",
    "    \n",
    "    height = []\n",
    "    for g in groups:\n",
    "        height = np.append(height, df[g].values)\n",
    "    alpha = 0.80\n",
    "    \n",
    "    if c:\n",
    "        colors = []\n",
    "        for color in c:\n",
    "            colors = colors + [color] * x_num\n",
    "        ax.bar3d(x,y,z,0.5,0.3, height, color=colors, alpha=alpha)\n",
    "    else:\n",
    "        ax.bar3d(x,y,z,0.5,0.3, height, alpha=alpha)\n",
    "    ax.set_xticks(np.arange(0,x_num))\n",
    "    ax.set_yticks(np.arange(0,y_num))\n",
    "    ax.set_yticklabels(ylabels)\n",
    "\n",
    "\n",
    "#     plt.show()\n",
    "    return ax"
   ]
  },
  {
   "cell_type": "code",
   "execution_count": 3,
   "metadata": {
    "collapsed": true
   },
   "outputs": [],
   "source": [
    "def cc(arg):\n",
    "    '''\n",
    "    Shorthand to convert 'named' colors to rgba format at 60% opacity.\n",
    "    '''\n",
    "    return mcolors.to_rgba(arg, alpha=0.9)\n",
    "\n",
    "\n",
    "def polygon_under_graph(xlist, ylist):\n",
    "    '''\n",
    "    Construct the vertex list which defines the polygon filling the space under\n",
    "    the (xlist, ylist) line graph.  Assumes the xs are in ascending order.\n",
    "    '''\n",
    "    return [(xlist[0], 0.)] + list(zip(xlist, ylist)) + [(xlist[-1], 0)]"
   ]
  },
  {
   "cell_type": "code",
   "execution_count": 4,
   "metadata": {
    "collapsed": true
   },
   "outputs": [],
   "source": [
    "def plot_3d_line(df, groups, ylabels, *args, **kwargs):\n",
    "    c = kwargs.get('c', None)\n",
    "    xlabel = kwargs.get('xlabel', None)\n",
    "    ylabel = kwargs.get('ylabel', None)\n",
    "    zlabel = kwargs.get('zlabel', None)\n",
    "    maxValue = kwargs.get('maxValue', None)\n",
    "    \n",
    "    fig = plt.figure(figsize=(12,9))\n",
    "    ax = fig.gca(projection='3d')\n",
    "    \n",
    "    x_num = df.shape[0]\n",
    "    y_num = df.shape[1]\n",
    "    \n",
    "    index = 0\n",
    "    verts = []\n",
    "    \n",
    "    for g in groups:\n",
    "        ys = df[g].values\n",
    "        x = np.arange(0, x_num)[::-1]\n",
    "        verts.append(polygon_under_graph(x, ys))\n",
    "    \n",
    "    \n",
    "    facecolors = []\n",
    "    for color in c:\n",
    "        facecolors = facecolors + [cc(color)]\n",
    "    \n",
    "    poly = PolyCollection(verts, facecolors=facecolors)\n",
    "    ax.add_collection3d(poly, zs=np.arange(0, y_num), zdir='y')\n",
    "        \n",
    "        \n",
    "    ax.set_xticks(np.arange(0,x_num))\n",
    "    ax.set_xticklabels(np.arange(0,x_num)[::-1])\n",
    "    ax.set_yticks(np.arange(0,y_num))\n",
    "    ax.set_yticklabels(ylabels)\n",
    "    \n",
    "    ax.view_init(20, 50)\n",
    "\n",
    "    ax.set_xlabel(xlabel)\n",
    "    ax.set_ylabel(ylabel)\n",
    "    ax.set_zlabel(zlabel, rotation=90)\n",
    "    ax.set_xlim(0, x_num)\n",
    "    ax.set_ylim(-1, y_num)\n",
    "    ax.set_zlim(0, maxValue)\n",
    "\n",
    "#     plt.show()\n",
    "    return ax"
   ]
  },
  {
   "cell_type": "code",
   "execution_count": 5,
   "metadata": {
    "collapsed": true
   },
   "outputs": [],
   "source": [
    "def add_percent_formatting(ax):\n",
    "    ax.yaxis.set_major_formatter(FuncFormatter(lambda y, _: '{:.0%}'.format(y)))"
   ]
  }
 ],
 "metadata": {
  "kernelspec": {
   "display_name": "Python 3",
   "language": "python",
   "name": "python3"
  },
  "language_info": {
   "codemirror_mode": {
    "name": "ipython",
    "version": 3
   },
   "file_extension": ".py",
   "mimetype": "text/x-python",
   "name": "python",
   "nbconvert_exporter": "python",
   "pygments_lexer": "ipython3",
   "version": "3.6.1"
  },
  "varInspector": {
   "cols": {
    "lenName": 16,
    "lenType": 16,
    "lenVar": 40
   },
   "kernels_config": {
    "python": {
     "delete_cmd_postfix": "",
     "delete_cmd_prefix": "del ",
     "library": "var_list.py",
     "varRefreshCmd": "print(var_dic_list())"
    },
    "r": {
     "delete_cmd_postfix": ") ",
     "delete_cmd_prefix": "rm(",
     "library": "var_list.r",
     "varRefreshCmd": "cat(var_dic_list()) "
    }
   },
   "types_to_exclude": [
    "module",
    "function",
    "builtin_function_or_method",
    "instance",
    "_Feature"
   ],
   "window_display": false
  }
 },
 "nbformat": 4,
 "nbformat_minor": 2
}
