{
 "cells": [
  {
   "cell_type": "code",
   "execution_count": 1,
   "metadata": {
    "collapsed": true
   },
   "outputs": [],
   "source": [
    "import pandas as pd\n",
    "import numpy as np"
   ]
  },
  {
   "cell_type": "code",
   "execution_count": 5,
   "metadata": {
    "collapsed": true
   },
   "outputs": [],
   "source": [
    "ttc = pd.read_csv('ttc_delays_cleaned.csv')"
   ]
  },
  {
   "cell_type": "code",
   "execution_count": 7,
   "metadata": {},
   "outputs": [
    {
     "data": {
      "text/plain": [
       "0    HIGH PARK\n",
       "1     SHEPPARD\n",
       "Name: Station, dtype: object"
      ]
     },
     "execution_count": 7,
     "metadata": {},
     "output_type": "execute_result"
    }
   ],
   "source": [
    "ttc_stations = ttc['Station']\n",
    "ttc_stations.head(2)"
   ]
  },
  {
   "cell_type": "code",
   "execution_count": 15,
   "metadata": {},
   "outputs": [
    {
     "data": {
      "text/html": [
       "<div>\n",
       "<style>\n",
       "    .dataframe thead tr:only-child th {\n",
       "        text-align: right;\n",
       "    }\n",
       "\n",
       "    .dataframe thead th {\n",
       "        text-align: left;\n",
       "    }\n",
       "\n",
       "    .dataframe tbody tr th {\n",
       "        vertical-align: top;\n",
       "    }\n",
       "</style>\n",
       "<table border=\"1\" class=\"dataframe\">\n",
       "  <thead>\n",
       "    <tr style=\"text-align: right;\">\n",
       "      <th></th>\n",
       "      <th>Station</th>\n",
       "      <th>Grade</th>\n",
       "      <th>2015 ridership</th>\n",
       "    </tr>\n",
       "  </thead>\n",
       "  <tbody>\n",
       "    <tr>\n",
       "      <th>0</th>\n",
       "      <td>COLLEGE</td>\n",
       "      <td>Underground</td>\n",
       "      <td>47,790</td>\n",
       "    </tr>\n",
       "    <tr>\n",
       "      <th>1</th>\n",
       "      <td>DAVISVILLE</td>\n",
       "      <td>Surface</td>\n",
       "      <td>25,330</td>\n",
       "    </tr>\n",
       "  </tbody>\n",
       "</table>\n",
       "</div>"
      ],
      "text/plain": [
       "      Station        Grade 2015 ridership\n",
       "0     COLLEGE  Underground         47,790\n",
       "1  DAVISVILLE      Surface         25,330"
      ]
     },
     "execution_count": 15,
     "metadata": {},
     "output_type": "execute_result"
    }
   ],
   "source": [
    "stations = pd.read_csv('csv_originals/station_ridership_grade.csv')\n",
    "stations['Station'] = stations['Station'].str.upper()\n",
    "stations.head(2)"
   ]
  },
  {
   "cell_type": "code",
   "execution_count": 17,
   "metadata": {},
   "outputs": [
    {
     "data": {
      "text/plain": [
       "76801"
      ]
     },
     "execution_count": 17,
     "metadata": {},
     "output_type": "execute_result"
    }
   ],
   "source": [
    "len(ttc)"
   ]
  },
  {
   "cell_type": "code",
   "execution_count": 35,
   "metadata": {},
   "outputs": [
    {
     "data": {
      "text/plain": [
       "Index([           'COLLEGE',         'DAVISVILLE',             'DUNDAS',\n",
       "                   'DUPONT',           'EGLINTON',      'EGLINTON WEST',\n",
       "                    'FINCH',          'GLENCAIRN',               'KING',\n",
       "                 'LAWRENCE',      'LAWRENCE WEST',             'MUSEUM',\n",
       "        'NORTH YORK CENTRE',            'OSGOODE',              'QUEEN',\n",
       "             'QUEEN'S PARK',           'ROSEDALE',      'SHEPPARD WEST',\n",
       "               'ST. ANDREW',          'ST. CLAIR',     'ST. CLAIR WEST',\n",
       "              'ST. PATRICK',         'SUMMERHILL',              'UNION',\n",
       "                'WELLESLEY',             'WILSON',         'YORK MILLS',\n",
       "                 'YORKDALE',        'BLOOR–YONGE',            'SPADINA',\n",
       "               'ST. GEORGE',     'SHEPPARD–YONGE',                  nan,\n",
       "                 'BATHURST',                'BAY',          'BROADVIEW',\n",
       "             'CASTLE FRANK',            'CHESTER',           'CHRISTIE',\n",
       "                  'COXWELL',           'DONLANDS',           'DUFFERIN',\n",
       "              'DUNDAS WEST',          'GREENWOOD',          'HIGH PARK',\n",
       "                'ISLINGTON',               'JANE',              'KEELE',\n",
       "                  'KIPLING',          'LANSDOWNE',        'MAIN STREET',\n",
       "                 'OLD MILL',          'OSSINGTON',               'PAPE',\n",
       "               'ROYAL YORK',          'RUNNYMEDE',         'SHERBOURNE',\n",
       "            'VICTORIA PARK',             'WARDEN',           'WOODBINE',\n",
       "                  'KENNEDY',          'ELLESMERE',      'LAWRENCE EAST',\n",
       "                  'MCCOWAN',            'MIDLAND', 'SCARBOROUGH CENTRE',\n",
       "                  'BAYVIEW',          'BESSARION',          'DON MILLS',\n",
       "                   'LESLIE'],\n",
       "      dtype='object', name='Station')"
      ]
     },
     "execution_count": 35,
     "metadata": {},
     "output_type": "execute_result"
    }
   ],
   "source": [
    "station_index = stations.set_index('Station')\n",
    "station_index.index"
   ]
  },
  {
   "cell_type": "code",
   "execution_count": 44,
   "metadata": {},
   "outputs": [
    {
     "data": {
      "text/plain": [
       "Index([         'HIGH PARK',           'SHEPPARD',          'LANSDOWNE',\n",
       "                    'BLOOR',           'DUFFERIN',  'NORTH YORK CENTRE',\n",
       "                'RUNNYMEDE',              'QUEEN',         'ST. ANDREW',\n",
       "                'WELLESLEY',            'KIPLING',        'ST. PATRICK',\n",
       "                  'KENNEDY',               'JANE',           'OLD MILL',\n",
       "                   'WILSON',          'DOWNSVIEW',                'BAY',\n",
       "                    'FINCH',            'COXWELL',     'ST. CLAIR WEST',\n",
       "                   'DUPONT',         'YORK MILLS',        'DUNDAS WEST',\n",
       "                  'OSGOODE',            'COLLEGE',              'YONGE',\n",
       "            'VICTORIA PARK',         'ST. GEORGE',          'BROADVIEW',\n",
       "                 'EGLINTON',           'ROSEDALE',               'PAPE',\n",
       "                'GREENWOOD',          'ISLINGTON',             'WARDEN',\n",
       "               'DAVISVILLE',           'LAWRENCE',      'EGLINTON WEST',\n",
       "                    'KEELE',              'UNION',            'CHESTER',\n",
       "                'GLENCAIRN',           'YORKDALE',             'MUSEUM',\n",
       "            'LAWRENCE EAST',            'MCCOWAN',            'MIDLAND',\n",
       "                'ELLESMERE',             'DUNDAS',         'SHERBOURNE',\n",
       "                     'KING',           'BATHURST',      'LAWRENCE WEST',\n",
       "                 'DONLANDS',             'LESLIE',            'BAYVIEW',\n",
       "             'QUEEN'S PARK',            'SPADINA',         'SUMMERHILL',\n",
       "                'DON MILLS',               'MAIN',          'OSSINGTON',\n",
       "               'ROYAL YORK',       'CASTLE FRANK',           'CHRISTIE',\n",
       "                 'WOODBINE',          'ST. CLAIR',                  nan,\n",
       "       'SCARBOROUGH CENTRE',          'BESSARION'],\n",
       "      dtype='object')"
      ]
     },
     "execution_count": 44,
     "metadata": {},
     "output_type": "execute_result"
    }
   ],
   "source": [
    "ttc_stations_index = pd.Index(ttc_stations.unique())\n",
    "ttc_stations_index"
   ]
  },
  {
   "cell_type": "markdown",
   "metadata": {},
   "source": [
    "Lets find which of the Stations don't match"
   ]
  },
  {
   "cell_type": "code",
   "execution_count": 49,
   "metadata": {},
   "outputs": [
    {
     "data": {
      "text/plain": [
       "Index(['BLOOR–YONGE', 'MAIN STREET', 'SHEPPARD WEST', 'SHEPPARD–YONGE'], dtype='object')"
      ]
     },
     "execution_count": 49,
     "metadata": {},
     "output_type": "execute_result"
    }
   ],
   "source": [
    "station_index.index.difference(ttc_stations_index)"
   ]
  },
  {
   "cell_type": "code",
   "execution_count": 50,
   "metadata": {},
   "outputs": [
    {
     "data": {
      "text/plain": [
       "Index(['BLOOR', 'DOWNSVIEW', 'MAIN', 'SHEPPARD', 'YONGE'], dtype='object')"
      ]
     },
     "execution_count": 50,
     "metadata": {},
     "output_type": "execute_result"
    }
   ],
   "source": [
    "ttc_stations_index.difference(station_index.index)"
   ]
  },
  {
   "cell_type": "code",
   "execution_count": null,
   "metadata": {
    "collapsed": true
   },
   "outputs": [],
   "source": [
    "Looks like we need to fix:\n",
    "BLOOR–YONGE --> Bloor and Yonge?\n",
    "MAIN STREET --> MAIN\n",
    "SHEPPARD WEST --> SHEPPARD\n",
    "SHEPPARD–YONGE --> DOWNSVIE"
   ]
  },
  {
   "cell_type": "code",
   "execution_count": 58,
   "metadata": {},
   "outputs": [],
   "source": [
    "# Remove the STREET from main street like we did in the other file\n",
    "stations.loc[stations['Station'] == 'MAIN STREET'] = 'MAIN'\n",
    "\n",
    "# Rename Sheppard West to DOWNSVIEW because this data predates 2017\n",
    "stations.loc[stations['Station'] == 'SHEPPARD WEST'] = 'DOWNSVIEW'"
   ]
  },
  {
   "cell_type": "code",
   "execution_count": 59,
   "metadata": {},
   "outputs": [
    {
     "data": {
      "text/plain": [
       "Index(['BLOOR–YONGE', 'SHEPPARD–YONGE'], dtype='object')"
      ]
     },
     "execution_count": 59,
     "metadata": {},
     "output_type": "execute_result"
    }
   ],
   "source": [
    "station_index = stations.set_index('Station')\n",
    "ttc_stations_index = pd.Index(ttc_stations.unique())\n",
    "station_index.index.difference(ttc_stations_index)"
   ]
  },
  {
   "cell_type": "code",
   "execution_count": 60,
   "metadata": {},
   "outputs": [
    {
     "data": {
      "text/plain": [
       "Index(['BLOOR', 'SHEPPARD', 'YONGE'], dtype='object')"
      ]
     },
     "execution_count": 60,
     "metadata": {},
     "output_type": "execute_result"
    }
   ],
   "source": [
    "ttc_stations_index.difference(station_index.index)"
   ]
  },
  {
   "cell_type": "code",
   "execution_count": null,
   "metadata": {
    "collapsed": true
   },
   "outputs": [],
   "source": []
  }
 ],
 "metadata": {
  "kernelspec": {
   "display_name": "Python 3",
   "language": "python",
   "name": "python3"
  },
  "language_info": {
   "codemirror_mode": {
    "name": "ipython",
    "version": 3
   },
   "file_extension": ".py",
   "mimetype": "text/x-python",
   "name": "python",
   "nbconvert_exporter": "python",
   "pygments_lexer": "ipython3",
   "version": "3.6.1"
  }
 },
 "nbformat": 4,
 "nbformat_minor": 2
}
