{
 "cells": [
  {
   "cell_type": "code",
   "execution_count": 93,
   "metadata": {
    "collapsed": true
   },
   "outputs": [],
   "source": [
    "import pandas as pd\n",
    "import numpy as np"
   ]
  },
  {
   "cell_type": "code",
   "execution_count": 94,
   "metadata": {
    "collapsed": true
   },
   "outputs": [],
   "source": [
    "ttc = pd.read_csv('ttc_delays_cleaned.csv')"
   ]
  },
  {
   "cell_type": "code",
   "execution_count": 95,
   "metadata": {},
   "outputs": [
    {
     "data": {
      "text/plain": [
       "0        HIGH PARK\n",
       "1    SHEPPARD - YU\n",
       "Name: Station, dtype: object"
      ]
     },
     "execution_count": 95,
     "metadata": {},
     "output_type": "execute_result"
    }
   ],
   "source": [
    "ttc_stations = ttc['Station']\n",
    "ttc_stations.head(2)"
   ]
  },
  {
   "cell_type": "code",
   "execution_count": 96,
   "metadata": {},
   "outputs": [
    {
     "data": {
      "text/html": [
       "<div>\n",
       "<style>\n",
       "    .dataframe thead tr:only-child th {\n",
       "        text-align: right;\n",
       "    }\n",
       "\n",
       "    .dataframe thead th {\n",
       "        text-align: left;\n",
       "    }\n",
       "\n",
       "    .dataframe tbody tr th {\n",
       "        vertical-align: top;\n",
       "    }\n",
       "</style>\n",
       "<table border=\"1\" class=\"dataframe\">\n",
       "  <thead>\n",
       "    <tr style=\"text-align: right;\">\n",
       "      <th></th>\n",
       "      <th>Station</th>\n",
       "      <th>Grade</th>\n",
       "      <th>2015 ridership</th>\n",
       "    </tr>\n",
       "  </thead>\n",
       "  <tbody>\n",
       "    <tr>\n",
       "      <th>0</th>\n",
       "      <td>COLLEGE</td>\n",
       "      <td>Underground</td>\n",
       "      <td>47,790</td>\n",
       "    </tr>\n",
       "    <tr>\n",
       "      <th>1</th>\n",
       "      <td>DAVISVILLE</td>\n",
       "      <td>Surface</td>\n",
       "      <td>25,330</td>\n",
       "    </tr>\n",
       "  </tbody>\n",
       "</table>\n",
       "</div>"
      ],
      "text/plain": [
       "      Station        Grade 2015 ridership\n",
       "0     COLLEGE  Underground         47,790\n",
       "1  DAVISVILLE      Surface         25,330"
      ]
     },
     "execution_count": 96,
     "metadata": {},
     "output_type": "execute_result"
    }
   ],
   "source": [
    "stations = pd.read_csv('csv_originals/station_ridership_grade.csv')\n",
    "stations['Station'] = stations['Station'].str.upper()\n",
    "stations.head(2)"
   ]
  },
  {
   "cell_type": "code",
   "execution_count": 97,
   "metadata": {},
   "outputs": [
    {
     "data": {
      "text/plain": [
       "Index(['COLLEGE', 'DAVISVILLE', 'DUNDAS', 'DUPONT', 'EGLINTON',\n",
       "       'EGLINTON WEST', 'FINCH', 'GLENCAIRN', 'KING', 'LAWRENCE',\n",
       "       'LAWRENCE WEST', 'MUSEUM', 'NORTH YORK CENTRE', 'OSGOODE', 'QUEEN',\n",
       "       'QUEEN'S PARK', 'ROSEDALE', 'SHEPPARD WEST', 'ST. ANDREW', 'ST. CLAIR',\n",
       "       'ST. CLAIR WEST', 'ST. PATRICK', 'SUMMERHILL', 'UNION', 'WELLESLEY',\n",
       "       'WILSON', 'YORK MILLS', 'YORKDALE', 'BLOOR-YONGE - BD',\n",
       "       'BLOOR-YONGE - YU', 'SPADINA - YU', 'SPADINA - BD', 'ST. GEORGE - YU',\n",
       "       'ST. GEORGE - BD', 'SHEPPARD - SHP', 'SHEPPARD - YU', 'BATHURST', 'BAY',\n",
       "       'BROADVIEW', 'CASTLE FRANK', 'CHESTER', 'CHRISTIE', 'COXWELL',\n",
       "       'DONLANDS', 'DUFFERIN', 'DUNDAS WEST', 'GREENWOOD', 'HIGH PARK',\n",
       "       'ISLINGTON', 'JANE', 'KEELE', 'KIPLING', 'LANSDOWNE', 'MAIN STREET',\n",
       "       'OLD MILL', 'OSSINGTON', 'PAPE', 'ROYAL YORK', 'RUNNYMEDE',\n",
       "       'SHERBOURNE', 'VICTORIA PARK', 'WARDEN', 'WOODBINE', 'KENNEDY - SRT',\n",
       "       'KENNEDY - BD', 'ELLESMERE', 'LAWRENCE EAST', 'MCCOWAN', 'MIDLAND',\n",
       "       'SCARBOROUGH CENTRE', 'BAYVIEW', 'BESSARION', 'DON MILLS', 'LESLIE'],\n",
       "      dtype='object', name='Station')"
      ]
     },
     "execution_count": 97,
     "metadata": {},
     "output_type": "execute_result"
    }
   ],
   "source": [
    "station_index = stations.set_index('Station')\n",
    "station_index.index"
   ]
  },
  {
   "cell_type": "code",
   "execution_count": 98,
   "metadata": {},
   "outputs": [
    {
     "data": {
      "text/plain": [
       "Index([         'HIGH PARK',      'SHEPPARD - YU',          'LANSDOWNE',\n",
       "         'BLOOR-YONGE - YU',           'DUFFERIN',  'NORTH YORK CENTRE',\n",
       "                'RUNNYMEDE',              'QUEEN',         'ST. ANDREW',\n",
       "                'WELLESLEY',            'KIPLING',        'ST. PATRICK',\n",
       "             'KENNEDY - BD',               'JANE',           'OLD MILL',\n",
       "                   'WILSON',          'DOWNSVIEW',                'BAY',\n",
       "                    'FINCH',            'COXWELL',     'ST. CLAIR WEST',\n",
       "                   'DUPONT',         'YORK MILLS',        'DUNDAS WEST',\n",
       "                  'OSGOODE',            'COLLEGE',   'BLOOR-YONGE - BD',\n",
       "            'VICTORIA PARK',    'ST. GEORGE - YU',        'YONGE - SHP',\n",
       "                'BROADVIEW',           'EGLINTON',           'ROSEDALE',\n",
       "                     'PAPE',          'GREENWOOD',          'ISLINGTON',\n",
       "                   'WARDEN',         'DAVISVILLE',           'LAWRENCE',\n",
       "            'EGLINTON WEST',              'BLOOR',              'KEELE',\n",
       "                    'UNION',            'CHESTER',          'GLENCAIRN',\n",
       "                 'YORKDALE',             'MUSEUM',      'LAWRENCE EAST',\n",
       "            'KENNEDY - SRT',            'MCCOWAN',            'MIDLAND',\n",
       "                'ELLESMERE',             'DUNDAS',         'SHERBOURNE',\n",
       "                     'KING',           'BATHURST',      'LAWRENCE WEST',\n",
       "                 'DONLANDS',             'LESLIE',            'BAYVIEW',\n",
       "             'QUEEN'S PARK',       'SPADINA - YU',         'SUMMERHILL',\n",
       "                'DON MILLS',               'MAIN',          'OSSINGTON',\n",
       "               'ROYAL YORK',       'CASTLE FRANK',         'ST. GEORGE',\n",
       "                 'CHRISTIE',           'WOODBINE',          'ST. CLAIR',\n",
       "             'SPADINA - BD',                  nan, 'SCARBOROUGH CENTRE',\n",
       "          'ST. GEORGE - BD',              'YONGE',          'BESSARION',\n",
       "           'SHEPPARD - SHP',            'SPADINA',           'SHEPPARD',\n",
       "                  'KENNEDY'],\n",
       "      dtype='object')"
      ]
     },
     "execution_count": 98,
     "metadata": {},
     "output_type": "execute_result"
    }
   ],
   "source": [
    "ttc_stations_index = pd.Index(ttc_stations.unique())\n",
    "ttc_stations_index"
   ]
  },
  {
   "cell_type": "markdown",
   "metadata": {},
   "source": [
    "Lets find which of the Stations don't match"
   ]
  },
  {
   "cell_type": "code",
   "execution_count": 99,
   "metadata": {},
   "outputs": [
    {
     "data": {
      "text/plain": [
       "Index(['MAIN STREET', 'SHEPPARD WEST'], dtype='object')"
      ]
     },
     "execution_count": 99,
     "metadata": {},
     "output_type": "execute_result"
    }
   ],
   "source": [
    "station_index.index.difference(ttc_stations_index)"
   ]
  },
  {
   "cell_type": "code",
   "execution_count": 100,
   "metadata": {},
   "outputs": [
    {
     "data": {
      "text/plain": [
       "Index([          nan,       'BLOOR',   'DOWNSVIEW',     'KENNEDY',\n",
       "              'MAIN',    'SHEPPARD',     'SPADINA',  'ST. GEORGE',\n",
       "             'YONGE', 'YONGE - SHP'],\n",
       "      dtype='object')"
      ]
     },
     "execution_count": 100,
     "metadata": {},
     "output_type": "execute_result"
    }
   ],
   "source": [
    "ttc_stations_index.difference(station_index.index)"
   ]
  },
  {
   "cell_type": "code",
   "execution_count": null,
   "metadata": {
    "collapsed": true
   },
   "outputs": [],
   "source": [
    "Looks like we need to fix:\n",
    "BLOOR–YONGE --> Bloor and Yonge?\n",
    "MAIN STREET --> MAIN\n",
    "SHEPPARD WEST --> SHEPPARD\n",
    "SHEPPARD–YONGE --> DOWNSVIE"
   ]
  },
  {
   "cell_type": "code",
   "execution_count": 101,
   "metadata": {},
   "outputs": [],
   "source": [
    "# Remove the STREET from main street like we did in the other file\n",
    "stations.loc[stations['Station'] == 'MAIN STREET'] = 'MAIN'\n",
    "\n",
    "# Rename Sheppard West to DOWNSVIEW because this data predates 2017\n",
    "stations.loc[stations['Station'] == 'SHEPPARD WEST'] = 'DOWNSVIEW'"
   ]
  },
  {
   "cell_type": "code",
   "execution_count": 102,
   "metadata": {},
   "outputs": [
    {
     "data": {
      "text/plain": [
       "Index([], dtype='object')"
      ]
     },
     "execution_count": 102,
     "metadata": {},
     "output_type": "execute_result"
    }
   ],
   "source": [
    "station_index = stations.set_index('Station')\n",
    "ttc_stations_index = pd.Index(ttc_stations.unique())\n",
    "station_index.index.difference(ttc_stations_index)"
   ]
  },
  {
   "cell_type": "code",
   "execution_count": 103,
   "metadata": {},
   "outputs": [
    {
     "data": {
      "text/plain": [
       "Index([          nan,       'BLOOR',     'KENNEDY',    'SHEPPARD',\n",
       "           'SPADINA',  'ST. GEORGE',       'YONGE', 'YONGE - SHP'],\n",
       "      dtype='object')"
      ]
     },
     "execution_count": 103,
     "metadata": {},
     "output_type": "execute_result"
    }
   ],
   "source": [
    "ttc_stations_index.difference(station_index.index)"
   ]
  },
  {
   "cell_type": "code",
   "execution_count": 61,
   "metadata": {
    "collapsed": true
   },
   "outputs": [],
   "source": [
    "ttc_exchange_stations = ttc[ttc['Station'].isin(['BLOOR', 'SHEPPARD', 'YONGE'])]"
   ]
  },
  {
   "cell_type": "code",
   "execution_count": 73,
   "metadata": {},
   "outputs": [
    {
     "data": {
      "text/html": [
       "<div>\n",
       "<style>\n",
       "    .dataframe thead tr:only-child th {\n",
       "        text-align: right;\n",
       "    }\n",
       "\n",
       "    .dataframe thead th {\n",
       "        text-align: left;\n",
       "    }\n",
       "\n",
       "    .dataframe tbody tr th {\n",
       "        vertical-align: top;\n",
       "    }\n",
       "</style>\n",
       "<table border=\"1\" class=\"dataframe\">\n",
       "  <thead>\n",
       "    <tr style=\"text-align: right;\">\n",
       "      <th></th>\n",
       "      <th>Station</th>\n",
       "      <th>Line</th>\n",
       "    </tr>\n",
       "  </thead>\n",
       "  <tbody>\n",
       "    <tr>\n",
       "      <th>3</th>\n",
       "      <td>BLOOR</td>\n",
       "      <td>Yonge-University</td>\n",
       "    </tr>\n",
       "    <tr>\n",
       "      <th>69</th>\n",
       "      <td>BLOOR</td>\n",
       "      <td>NaN</td>\n",
       "    </tr>\n",
       "    <tr>\n",
       "      <th>142</th>\n",
       "      <td>BLOOR</td>\n",
       "      <td>Bloor-Danforth</td>\n",
       "    </tr>\n",
       "    <tr>\n",
       "      <th>1</th>\n",
       "      <td>SHEPPARD</td>\n",
       "      <td>Yonge-University</td>\n",
       "    </tr>\n",
       "    <tr>\n",
       "      <th>1413</th>\n",
       "      <td>SHEPPARD</td>\n",
       "      <td>Sheppard</td>\n",
       "    </tr>\n",
       "    <tr>\n",
       "      <th>15880</th>\n",
       "      <td>SHEPPARD</td>\n",
       "      <td>NaN</td>\n",
       "    </tr>\n",
       "    <tr>\n",
       "      <th>20421</th>\n",
       "      <td>SHEPPARD</td>\n",
       "      <td>Bloor-Danforth</td>\n",
       "    </tr>\n",
       "    <tr>\n",
       "      <th>38</th>\n",
       "      <td>YONGE</td>\n",
       "      <td>Bloor-Danforth</td>\n",
       "    </tr>\n",
       "    <tr>\n",
       "      <th>42</th>\n",
       "      <td>YONGE</td>\n",
       "      <td>Sheppard</td>\n",
       "    </tr>\n",
       "    <tr>\n",
       "      <th>73</th>\n",
       "      <td>YONGE</td>\n",
       "      <td>Yonge-University</td>\n",
       "    </tr>\n",
       "    <tr>\n",
       "      <th>1178</th>\n",
       "      <td>YONGE</td>\n",
       "      <td>NaN</td>\n",
       "    </tr>\n",
       "  </tbody>\n",
       "</table>\n",
       "</div>"
      ],
      "text/plain": [
       "        Station              Line\n",
       "3         BLOOR  Yonge-University\n",
       "69        BLOOR               NaN\n",
       "142       BLOOR    Bloor-Danforth\n",
       "1      SHEPPARD  Yonge-University\n",
       "1413   SHEPPARD          Sheppard\n",
       "15880  SHEPPARD               NaN\n",
       "20421  SHEPPARD    Bloor-Danforth\n",
       "38        YONGE    Bloor-Danforth\n",
       "42        YONGE          Sheppard\n",
       "73        YONGE  Yonge-University\n",
       "1178      YONGE               NaN"
      ]
     },
     "execution_count": 73,
     "metadata": {},
     "output_type": "execute_result"
    }
   ],
   "source": [
    "ttc_exchange_stations[['Station', 'Line']].drop_duplicates().sort_values('Station')"
   ]
  },
  {
   "cell_type": "code",
   "execution_count": 75,
   "metadata": {},
   "outputs": [
    {
     "data": {
      "text/plain": [
       "Station   Line            \n",
       "BLOOR     Bloor-Danforth      1835\n",
       "          Yonge-University    1634\n",
       "SHEPPARD  Bloor-Danforth        37\n",
       "          Sheppard              50\n",
       "          Yonge-University    1094\n",
       "YONGE     Bloor-Danforth      1703\n",
       "          Sheppard            1031\n",
       "          Yonge-University    2802\n",
       "dtype: int64"
      ]
     },
     "execution_count": 75,
     "metadata": {},
     "output_type": "execute_result"
    }
   ],
   "source": [
    "ttc_exchange_stations.groupby(['Station', 'Line']).size()"
   ]
  },
  {
   "cell_type": "code",
   "execution_count": null,
   "metadata": {
    "collapsed": true
   },
   "outputs": [],
   "source": []
  }
 ],
 "metadata": {
  "kernelspec": {
   "display_name": "Python 3",
   "language": "python",
   "name": "python3"
  },
  "language_info": {
   "codemirror_mode": {
    "name": "ipython",
    "version": 3
   },
   "file_extension": ".py",
   "mimetype": "text/x-python",
   "name": "python",
   "nbconvert_exporter": "python",
   "pygments_lexer": "ipython3",
   "version": "3.6.1"
  }
 },
 "nbformat": 4,
 "nbformat_minor": 2
}
