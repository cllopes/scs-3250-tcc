{
 "cells": [
  {
   "cell_type": "markdown",
   "metadata": {},
   "source": [
    "### Ridership Clean Up"
   ]
  },
  {
   "cell_type": "code",
   "execution_count": 91,
   "metadata": {
    "collapsed": true
   },
   "outputs": [],
   "source": [
    "import pandas as pd\n",
    "import numpy as np"
   ]
  },
  {
   "cell_type": "code",
   "execution_count": 121,
   "metadata": {},
   "outputs": [],
   "source": [
    "ridership_2014 = pd.read_csv('csv_originals/2014_platform_usage.csv')\n",
    "ridership_2015 = pd.read_csv('csv_originals/2015_platform_usage.csv')\n",
    "stations = pd.read_csv('stations_cleaned.csv')"
   ]
  },
  {
   "cell_type": "code",
   "execution_count": 122,
   "metadata": {},
   "outputs": [
    {
     "data": {
      "text/html": [
       "<div>\n",
       "<style>\n",
       "    .dataframe thead tr:only-child th {\n",
       "        text-align: right;\n",
       "    }\n",
       "\n",
       "    .dataframe thead th {\n",
       "        text-align: left;\n",
       "    }\n",
       "\n",
       "    .dataframe tbody tr th {\n",
       "        vertical-align: top;\n",
       "    }\n",
       "</style>\n",
       "<table border=\"1\" class=\"dataframe\">\n",
       "  <thead>\n",
       "    <tr style=\"text-align: right;\">\n",
       "      <th></th>\n",
       "      <th>Station</th>\n",
       "      <th>Grade</th>\n",
       "      <th>2015 ridership</th>\n",
       "      <th>Ridership</th>\n",
       "    </tr>\n",
       "  </thead>\n",
       "  <tbody>\n",
       "    <tr>\n",
       "      <th>0</th>\n",
       "      <td>COLLEGE</td>\n",
       "      <td>Underground</td>\n",
       "      <td>47,79</td>\n",
       "      <td>4779</td>\n",
       "    </tr>\n",
       "    <tr>\n",
       "      <th>1</th>\n",
       "      <td>DAVISVILLE</td>\n",
       "      <td>Surface</td>\n",
       "      <td>25,33</td>\n",
       "      <td>2533</td>\n",
       "    </tr>\n",
       "    <tr>\n",
       "      <th>2</th>\n",
       "      <td>DUNDAS</td>\n",
       "      <td>Underground</td>\n",
       "      <td>81,33</td>\n",
       "      <td>8133</td>\n",
       "    </tr>\n",
       "    <tr>\n",
       "      <th>3</th>\n",
       "      <td>DUPONT</td>\n",
       "      <td>Underground</td>\n",
       "      <td>16,14</td>\n",
       "      <td>1614</td>\n",
       "    </tr>\n",
       "    <tr>\n",
       "      <th>4</th>\n",
       "      <td>EGLINTON</td>\n",
       "      <td>Underground</td>\n",
       "      <td>72,75</td>\n",
       "      <td>7275</td>\n",
       "    </tr>\n",
       "  </tbody>\n",
       "</table>\n",
       "</div>"
      ],
      "text/plain": [
       "      Station        Grade 2015 ridership  Ridership\n",
       "0     COLLEGE  Underground          47,79       4779\n",
       "1  DAVISVILLE      Surface          25,33       2533\n",
       "2      DUNDAS  Underground          81,33       8133\n",
       "3      DUPONT  Underground          16,14       1614\n",
       "4    EGLINTON  Underground          72,75       7275"
      ]
     },
     "execution_count": 122,
     "metadata": {},
     "output_type": "execute_result"
    }
   ],
   "source": [
    "# cleaned_2014 = ridership_2014[['Rank', 'Subway/RT Station', 'Totals']].dropna()\n",
    "stations.head(5)"
   ]
  },
  {
   "cell_type": "code",
   "execution_count": 123,
   "metadata": {},
   "outputs": [],
   "source": [
    "station_map = {\n",
    "    'BLOOR (LINE 1, Y-U)': 'BLOOR-YONGE - YU',\n",
    "    'KENNEDY (LINE 2, B-D)': 'KENNEDY - BD',\n",
    "    'KENNEDY (LINE 3)': 'KENNEDY - SRT',\n",
    "    'SHEPPARD-YONGE (LINE 1, Y-U)' : 'SHEPPARD - YU',\n",
    "    'SHEPPARD-YONGE (LINE 4)' : 'SHEPPARD - SHP',\n",
    "    'SPADINA (LINE 1, Y-U)' : 'SPADINA - YU',\n",
    "    'SPADINA (LINE 2, B-D)' : 'SPADINA - BD',\n",
    "    'ST. GEORGE (LINE 1, Y-U)' : 'ST. GEORGE - YU',\n",
    "    'ST. GEORGE (LINE 2, B-D)' : 'ST. GEORGE - BD',\n",
    "    'YONGE (LINE 2, B-D)' : 'BLOOR-YONGE - BD',\n",
    "    'MAIN STREET' : 'MAIN',\n",
    "    'MUSEUM' : 'MUSEUM'\n",
    "}\n",
    "\n",
    "def sync_station_names(station):\n",
    "    return station_map.get(station, station)\n",
    "        \n",
    "    "
   ]
  },
  {
   "cell_type": "code",
   "execution_count": 134,
   "metadata": {
    "collapsed": true
   },
   "outputs": [],
   "source": [
    "def clean_dataset(original):\n",
    "    cleaned = original[['Rank', 'Subway/RT Station', 'Totals']].dropna()\n",
    "    \n",
    "    # Make the stations name a capital\n",
    "    cleaned['Station'] = cleaned['Subway/RT Station'].str.upper()\n",
    "    \n",
    "    # Manually sync up some stations\n",
    "    cleaned['Station'] = cleaned['Station'].map(sync_station_names)\n",
    "    \n",
    "    cleaned['Totals'] = cleaned['Totals'].apply(lambda x: pd.to_numeric(x.replace(',',''), errors='coerce'))\n",
    "    \n",
    "    \n",
    "    return cleaned"
   ]
  },
  {
   "cell_type": "code",
   "execution_count": 135,
   "metadata": {},
   "outputs": [],
   "source": [
    "cleaned_2014 = clean_dataset(ridership_2014)\n",
    "cleaned_2014['2014 Total'] = cleaned_2014['Totals']"
   ]
  },
  {
   "cell_type": "code",
   "execution_count": 136,
   "metadata": {},
   "outputs": [],
   "source": [
    "cleaned_2015 = clean_dataset(ridership_2015)\n",
    "cleaned_2015['2015 Total'] = cleaned_2014['Totals']"
   ]
  },
  {
   "cell_type": "code",
   "execution_count": 137,
   "metadata": {},
   "outputs": [
    {
     "data": {
      "text/plain": [
       "0     -3348\n",
       "1      2820\n",
       "2      1751\n",
       "3      1066\n",
       "4     -1751\n",
       "5     -1153\n",
       "6         0\n",
       "7      -746\n",
       "8     -3259\n",
       "9         0\n",
       "10     1186\n",
       "11    -2731\n",
       "12       31\n",
       "13     -981\n",
       "14    -4354\n",
       "15    12632\n",
       "16      197\n",
       "17        0\n",
       "18     5660\n",
       "19     1133\n",
       "20    -2803\n",
       "21     -211\n",
       "22      495\n",
       "23        0\n",
       "24        0\n",
       "25      400\n",
       "26    -6386\n",
       "27    -1576\n",
       "28        0\n",
       "29        0\n",
       "      ...  \n",
       "44     2393\n",
       "45     2111\n",
       "46     -858\n",
       "47      905\n",
       "48    -2969\n",
       "49     1327\n",
       "50    -1066\n",
       "51    -2401\n",
       "52     2240\n",
       "53    -1025\n",
       "54        0\n",
       "55      614\n",
       "56     3039\n",
       "57     -963\n",
       "58    -2024\n",
       "59      608\n",
       "60     -409\n",
       "61    -1051\n",
       "62     1117\n",
       "63     -380\n",
       "64        0\n",
       "65        0\n",
       "66        0\n",
       "67        0\n",
       "68      -81\n",
       "69     -890\n",
       "70      725\n",
       "71       81\n",
       "72     1979\n",
       "73       54\n",
       "Length: 74, dtype: int64"
      ]
     },
     "execution_count": 137,
     "metadata": {},
     "output_type": "execute_result"
    }
   ],
   "source": [
    "merged = stations.merge(cleaned_2014, on ='Station')\n",
    "merged = merged.drop(['Subway/RT Station', 'Totals'], 1)\n",
    "merged = merged.merge(cleaned_2015, on ='Station')\n",
    "merged = merged.drop(['Subway/RT Station', 'Rank_x', 'Rank_y', 'Totals', '2015 ridership', 'Ridership'], 1)\n",
    "merged['2015 Total'] - merged['2014 Total']"
   ]
  },
  {
   "cell_type": "code",
   "execution_count": null,
   "metadata": {
    "collapsed": true
   },
   "outputs": [],
   "source": []
  },
  {
   "cell_type": "code",
   "execution_count": null,
   "metadata": {
    "collapsed": true
   },
   "outputs": [],
   "source": []
  },
  {
   "cell_type": "code",
   "execution_count": null,
   "metadata": {
    "collapsed": true
   },
   "outputs": [],
   "source": []
  }
 ],
 "metadata": {
  "kernelspec": {
   "display_name": "Python 3",
   "language": "python",
   "name": "python3"
  },
  "language_info": {
   "codemirror_mode": {
    "name": "ipython",
    "version": 3
   },
   "file_extension": ".py",
   "mimetype": "text/x-python",
   "name": "python",
   "nbconvert_exporter": "python",
   "pygments_lexer": "ipython3",
   "version": "3.6.1"
  }
 },
 "nbformat": 4,
 "nbformat_minor": 2
}
